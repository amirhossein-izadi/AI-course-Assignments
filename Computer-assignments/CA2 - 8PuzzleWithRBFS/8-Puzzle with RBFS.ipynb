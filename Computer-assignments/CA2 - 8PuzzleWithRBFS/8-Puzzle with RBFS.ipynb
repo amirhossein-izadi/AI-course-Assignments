{
 "cells": [
  {
   "cell_type": "markdown",
   "id": "970f41c5",
   "metadata": {},
   "source": [
    "<span style=\"font-size: 1.5em;\">Solving 8-Puzzle with RBFS </span>\n",
    "---\n",
    "<hr style=\"border: none; border-top: 3px solid black;\">\n",
    "\n",
    "## ◎ **$\\texttt{Description}$** \n",
    "\n",
    "#### In this question the 8-Puzzle game is solved using the RBFS (Recursive Best-First Search) informed search algorithm.\n",
    ">You are asked to complete the heuristic and rbfs functions so that, ultimately, for different initial states of the puzzle, we can reach the final state where the numbers 1 to 8 are arranged in order."
   ]
  },
  {
   "cell_type": "code",
   "execution_count": 1,
   "id": "bd02c25d",
   "metadata": {},
   "outputs": [],
   "source": [
    "import sys \n",
    "import time"
   ]
  },
  {
   "cell_type": "markdown",
   "id": "d97db515",
   "metadata": {},
   "source": [
    "# ◎ **$\\texttt{heuristic}$** \n",
    "\n",
    ">As you can see we assume **MANHATTAN DISTANCE** as our heuristic funcion.<br>\n",
    "Also various heuristic function for this case such like pattern database can be used."
   ]
  },
  {
   "cell_type": "code",
   "execution_count": 2,
   "id": "27d81d16",
   "metadata": {},
   "outputs": [],
   "source": [
    "def heuristic(state, goal_state):\n",
    "    '''the summation of manhattan distances between each tile and the correct position of it '''\n",
    "    \n",
    "    distance = 0\n",
    "    for i in range(3): \n",
    "        for j in range(3):\n",
    "            value = state[i][j]\n",
    "            \n",
    "            if value != 0:\n",
    "                goal_i, goal_j = divmod(value - 1, 3)\n",
    "                distance += abs(i - goal_i) + abs(j - goal_j)\n",
    "    return distance"
   ]
  },
  {
   "cell_type": "markdown",
   "id": "e7cc87c4",
   "metadata": {},
   "source": [
    "## ◎ **$\\texttt{generate_successors}$**\n",
    "---\n",
    ">This function takes a 3x3 matrix $\\texttt{state}$ as input and generates a list of successor states  by moving the empty cell (indicated by a 0) <br> in all possible directions (up, down, left, right). The function returns a list of successor states.\n",
    "\n",
    "###  $\\text{I.}$  $\\texttt{Parameters}$\n",
    "- `state` : list\n",
    "    - A 3x3 matrix representing the current state of the puzzle.\n",
    "\n",
    "### $\\text{II.}$  $\\texttt{Returns}$ \n",
    "- `successors` : list\n",
    "    - A list of 3x3 matrices, each representing a possible successor state of the puzzle.\n",
    "    \n",
    "### $\\text{III.}$  $\\texttt{Algorithm}$\n",
    "1. Initialize an empty list (successors).\n",
    "2. Find the indices of the empty cell in the state matrix.\n",
    "3. Define a list moves containing the possible movements of the empty cell.\n",
    "4. For each move in moves, calculate the new indices of the empty cell.\n",
    "5. If the new indices are within the bounds of the matrix, create a new state by swapping the empty cell with the adjacent cell in the direction of the move.\n",
    "6. Append the new state to the list of successors.\n",
    "7. Return the list of successors.\n",
    "\n",
    "\n",
    "\n"
   ]
  },
  {
   "cell_type": "code",
   "execution_count": 3,
   "id": "47d159ed",
   "metadata": {},
   "outputs": [],
   "source": [
    "def generate_successors(state):\n",
    "    successors = []\n",
    "    empty_i, empty_j = None, None\n",
    "    for i in range(3):\n",
    "        for j in range(3):\n",
    "            if state[i][j] == 0:\n",
    "                empty_i, empty_j = i, j\n",
    "\n",
    "    moves = [(0, 1), (1, 0), (0, -1), (-1, 0)]\n",
    "    for move in moves:\n",
    "        new_i, new_j = empty_i + move[0], empty_j + move[1]\n",
    "        if 0 <= new_i < 3 and 0 <= new_j < 3:\n",
    "            new_state = [row[:] for row in state]\n",
    "            new_state[empty_i][empty_j] = new_state[new_i][new_j]\n",
    "            new_state[new_i][new_j] = 0\n",
    "            successors.append(new_state)\n",
    "\n",
    "    return successors\n"
   ]
  },
  {
   "cell_type": "code",
   "execution_count": 4,
   "id": "ad1808e7",
   "metadata": {},
   "outputs": [],
   "source": [
    "def is_goal(state, goal_state):\n",
    "    return state == goal_state\n"
   ]
  },
  {
   "cell_type": "code",
   "execution_count": 5,
   "id": "8283fb2a",
   "metadata": {},
   "outputs": [],
   "source": [
    "# Print puzzle \n",
    "def print_puzzle(state):\n",
    "    for row in state:\n",
    "        print(row)"
   ]
  },
  {
   "cell_type": "markdown",
   "id": "8ce244ce",
   "metadata": {},
   "source": [
    "## ◎ **$\\texttt{RBFS}$**\n",
    "---\n",
    ">This function implements the Recursive Best-First Search (RBFS) algorithm to find the optimal path from a given **state** to the **goal_state**. The function returns the optimal path and its cost.\n",
    "\n",
    "###  $\\text{I.}$  $\\texttt{Parameters}$\n",
    "- `state` : list\n",
    "    - A 2-dimensional list representing the current state of the puzzle.\n",
    "- `goal_state` : list\n",
    "    - A 2-dimensional list representing the goal state of the puzzle.\n",
    "- `f_limit` : int\n",
    "    - The maximum cost of a path that the algorithm is allowed to explore.\n",
    "- `g_cost` : int (default: 0)\n",
    "    - The cost of the current path.\n",
    "- `timeout` : int (default: 10)\n",
    "    - The maximum amount of time (in seconds) that the algorithm is allowed to run.\n",
    "\n",
    "### $\\text{II.}$  $\\texttt{Returns}$ \n",
    "- `result` : list\n",
    "    - A list representing the optimal path from the current state to the goal state.\n",
    "- `best_f` : int\n",
    "    - The cost of the optimal path.\n",
    "\n",
    "### $\\text{III.}$  $\\texttt{Algorithm}$\n",
    "1. If the state is the same as the *goal_state*, return the state and the cost of the current path, which is 0.\n",
    "2. Generate all possible successor states of the state using the `generate_successors` function.\n",
    "3. If there are no successors, return None and a large number (i.e. infinity).\n",
    "4. Sort the successor states by their estimated cost (i.e. *g_cost* + 1 + *heuristic*).\n",
    "5. If the estimated cost of the best successor state is greater than the f_limit, return None and the estimated cost of the best successor.\n",
    "6. If there is more than one successor state, set alternative to the estimated cost of the second best successor, otherwise set it to infinity.\n",
    "7. Calculate the remaining time for the algorithm to run, which is the timeout minus the time already elapsed.\n",
    "8. Recursively call the `RBFS` function with the best successor state as the new state\n",
    "9. Update f_limit to be the minimum of f_limit and *alternative*, and *g_cost* to be *g_cost* + 1.\n",
    "10. If the remaining time is less than or equal to 0, return None and a large number (i.e. infinity).\n",
    "11. If the recursive call returns a result, return the result and the cost of the optimal path.\n",
    "12. If the remaining time is less than or equal to 0, return None and a large number (i.e. infinity)."
   ]
  },
  {
   "cell_type": "code",
   "execution_count": 6,
   "id": "aeb626f0",
   "metadata": {},
   "outputs": [],
   "source": [
    "def rbfs(state, goal_state, f_limit, g_cost=0, timeout=10):\n",
    "    if is_goal(state, goal_state):\n",
    "        return state, g_cost\n",
    "\n",
    "    successors = [(s, g_cost + 1 + heuristic(s, goal_state)) for s in generate_successors(state)]\n",
    "    if not successors:\n",
    "        return None, sys.maxsize\n",
    "\n",
    "    start_time = time.time()\n",
    "\n",
    "    while True:\n",
    "        successors.sort(key=lambda x: x[1])\n",
    "        best_state, best_f = successors[0]\n",
    "        if best_f > f_limit:\n",
    "            return None, best_f\n",
    "\n",
    "        alternative = successors[1][1] if len(successors) > 1 else sys.maxsize\n",
    "        remaining_time = (timeout - (time.time() - start_time))\n",
    "\n",
    "        result, best_f = rbfs(best_state, goal_state, min(f_limit, alternative), g_cost + 1, timeout=remaining_time)\n",
    "\n",
    "        if time.time() - start_time >= timeout:\n",
    "            return None, sys.maxsize\n",
    "\n",
    "        if result is not None:\n",
    "            return result, best_f\n",
    "\n",
    "        if time.time() - start_time >= timeout:\n",
    "            return None, sys.maxsize\n",
    "        "
   ]
  },
  {
   "cell_type": "code",
   "execution_count": 9,
   "id": "0c89ec64",
   "metadata": {
    "scrolled": true
   },
   "outputs": [
    {
     "name": "stdout",
     "output_type": "stream",
     "text": [
      "Initial state:\n",
      "[2, 3, 0]\n",
      "[1, 4, 6]\n",
      "[7, 5, 8]\n",
      "Goal state reached with 6 step(s):\n",
      "[1, 2, 3]\n",
      "[4, 5, 6]\n",
      "[7, 8, 0]\n"
     ]
    }
   ],
   "source": [
    "initial_state =  [[2, 3, 0], [1, 4, 6], [7, 5, 8]]\n",
    "#initial_state =[[1, 2, 3], [8, 0, 4], [7, 6, 5]]\n",
    "goal_state = [[1, 2, 3], [4, 5, 6], [7, 8, 0]]\n",
    "\n",
    "f_limit = heuristic(initial_state, goal_state)\n",
    "result, f_goal = rbfs(initial_state, goal_state, f_limit)\n",
    "\n",
    "print(\"Initial state:\")\n",
    "print_puzzle(initial_state)\n",
    "\n",
    "if result is not None:\n",
    "    print(\"Goal state reached with {} step(s):\".format(f_goal))\n",
    "    print_puzzle(result)\n",
    "else:\n",
    "    print(\"Goal state could not be reached.\")"
   ]
  }
 ],
 "metadata": {
  "kernelspec": {
   "display_name": "Python 3 (ipykernel)",
   "language": "python",
   "name": "python3"
  },
  "language_info": {
   "codemirror_mode": {
    "name": "ipython",
    "version": 3
   },
   "file_extension": ".py",
   "mimetype": "text/x-python",
   "name": "python",
   "nbconvert_exporter": "python",
   "pygments_lexer": "ipython3",
   "version": "3.10.4"
  }
 },
 "nbformat": 4,
 "nbformat_minor": 5
}
