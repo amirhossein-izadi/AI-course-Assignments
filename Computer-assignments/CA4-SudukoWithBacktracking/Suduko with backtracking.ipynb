{
 "cells": [
  {
   "cell_type": "markdown",
   "id": "58c516f2",
   "metadata": {},
   "source": [
    "<span style=\"font-size: 1.5em;\">Sudoku Solver using Backtracking Algorithm and Pygame </span>\n",
    "---\n",
    "<hr style=\"border: none; border-top: 3px solid black;\">\n",
    "\n",
    " >**This program is a simple implementation of a Sudoku solver using the backtracking algorithm.<br> It also uses the Pygame library to display the Sudoku grid and the solved puzzle.**\n",
    "\n",
    "- The Sudoku grid is represented as a 9x9 2D list, where each cell contains a number from 0 to 9. A value of 0 represents an empty cell. The `is_valid_move` function checks if a given move is valid by checking the row, column, and 3x3 square containing the cell for any conflicting values. <br> <br>\n",
    "\n",
    "- The `solve_sudoku` function uses a recursive backtracking algorithm to solve the Sudoku puzzle. It starts by iterating over each cell in the grid, and if it is not already filled, it tries placing every possible value from 1 to 9 in the cell. If a valid move is found, it recursively tries to fill the next empty cell. If no valid move is found, it backtracks to the previous cell and tries a different value.  <br> <br>\n",
    "\n",
    "- The `main` function initializes the Pygame window, draws the grid, solves the Sudoku puzzle using the `solve_sudoku` function, and redraws the grid with the solved values.  <br> <br>\n",
    "\n",
    "- The `escape` function handles the Pygame events and quits the game if the window is closed. The `DrawGrid` function draws the Sudoku grid and the solved values using Pygame.  <br>  <br>"
   ]
  },
  {
   "cell_type": "code",
   "execution_count": 1,
   "id": "869ad0ac",
   "metadata": {},
   "outputs": [
    {
     "name": "stdout",
     "output_type": "stream",
     "text": [
      "pygame 2.4.0 (SDL 2.26.4, Python 3.10.4)\n",
      "Hello from the pygame community. https://www.pygame.org/contribute.html\n"
     ]
    }
   ],
   "source": [
    "import pygame"
   ]
  },
  {
   "cell_type": "code",
   "execution_count": 2,
   "id": "21a55302",
   "metadata": {},
   "outputs": [],
   "source": [
    "WIDTH = 550\n",
    "background_color = (251, 247, 245)\n",
    "original_grid_element_color = (52, 31, 151)\n",
    "\n",
    "grid = [\n",
    "    [7, 8, 0, 4, 0, 0, 1, 2, 0],\n",
    "    [6, 0, 0, 0, 7, 5, 0, 0, 9],\n",
    "    [0, 0, 0, 6, 0, 1, 0, 7, 8],\n",
    "    [0, 0, 7, 0, 4, 0, 2, 6, 0],\n",
    "    [0, 0, 1, 0, 5, 0, 9, 3, 0],\n",
    "    [9, 0, 4, 0, 6, 0, 0, 0, 5],\n",
    "    [0, 7, 0, 3, 0, 0, 0, 1, 2],\n",
    "    [1, 2, 0, 0, 0, 7, 4, 0, 0],\n",
    "    [0, 4, 9, 2, 0, 6, 0, 0, 7]\n",
    "]"
   ]
  },
  {
   "cell_type": "code",
   "execution_count": 3,
   "id": "2607a097",
   "metadata": {},
   "outputs": [],
   "source": [
    "def escape():\n",
    "    for event in pygame.event.get():\n",
    "\n",
    "        if event.type == pygame.QUIT:\n",
    "            pygame.quit()\n",
    "            return\n"
   ]
  },
  {
   "cell_type": "code",
   "execution_count": 4,
   "id": "b6828eaa",
   "metadata": {},
   "outputs": [],
   "source": [
    "def DrawGrid():\n",
    "    win = pygame.display.set_mode((WIDTH, WIDTH))\n",
    "    win.fill(background_color)\n",
    "    my_font = pygame.font.SysFont('Comic Sans MS', 35)\n",
    "\n",
    "    for i in range(0, 9):\n",
    "        for j in range(0, 9):\n",
    "            if grid[i][j] != 0:\n",
    "                value = my_font.render(str(grid[i][j]), True, original_grid_element_color)\n",
    "                win.blit(value, ((j + 1) * 50 + 15, (i + 1) * 50))\n",
    "\n",
    "    pygame.display.update()\n",
    "\n",
    "    for i in range(0, 10):\n",
    "        if i % 3 == 0:\n",
    "            pygame.draw.line(win, (0, 0, 0), (50 + 50 * i, 50), (50 + 50 * i, 500), 6)\n",
    "            pygame.draw.line(win, (0, 0, 0), (50, 50 + 50 * i), (500, 50 + 50 * i), 6)\n",
    "\n",
    "        pygame.draw.line(win, (0, 0, 0), (50 + 50 * i, 50), (50 + 50 * i, 500), 2)\n",
    "        pygame.draw.line(win, (0, 0, 0), (50, 50 + 50 * i), (500, 50 + 50 * i), 2)\n",
    "    pygame.display.update()\n",
    "    \n",
    "    "
   ]
  },
  {
   "cell_type": "code",
   "execution_count": 5,
   "id": "83ee3aef",
   "metadata": {},
   "outputs": [],
   "source": [
    "def is_valid_move(grid, row, col, num):\n",
    "    for i in range(9):\n",
    "        if grid[row][i] == num or grid[i][col] == num:\n",
    "            return False\n",
    "\n",
    "    start_row, start_col = 3 * (row // 3), 3 * (col // 3)\n",
    "    for i in range(3):\n",
    "        for j in range(3):\n",
    "            if grid[i + start_row][j + start_col] == num:\n",
    "                return False\n",
    "\n",
    "    return True\n",
    "\n"
   ]
  },
  {
   "cell_type": "code",
   "execution_count": 6,
   "id": "147f3436",
   "metadata": {},
   "outputs": [],
   "source": [
    "def solve_sudoku(grid, row=0, col=0):\n",
    "    if row == 9:\n",
    "        return True\n",
    "\n",
    "    if col == 9:\n",
    "        return solve_sudoku(grid, row + 1, 0)\n",
    "\n",
    "    if grid[row][col] != 0:\n",
    "        return solve_sudoku(grid, row, col + 1)\n",
    "\n",
    "    for num in range(1, 10):\n",
    "        if is_valid_move(grid, row, col, num):\n",
    "            grid[row][col] = num\n",
    "\n",
    "            if solve_sudoku(grid, row, col + 1):\n",
    "                return True\n",
    "\n",
    "        grid[row][col] = 0\n",
    "\n",
    "    return False\n"
   ]
  },
  {
   "cell_type": "code",
   "execution_count": null,
   "id": "9986fb00",
   "metadata": {},
   "outputs": [],
   "source": [
    "def main():\n",
    "    pygame.font.init()\n",
    "    win = pygame.display.set_mode((WIDTH, WIDTH))\n",
    "    pygame.display.set_caption(\"SUDOKO\")\n",
    "    win.fill(background_color)\n",
    "    DrawGrid()\n",
    "    solve_sudoku(grid)\n",
    "    DrawGrid()\n",
    "    while True:\n",
    "        escape()\n",
    "\n",
    "\n",
    "main()\n"
   ]
  }
 ],
 "metadata": {
  "kernelspec": {
   "display_name": "Python 3 (ipykernel)",
   "language": "python",
   "name": "python3"
  },
  "language_info": {
   "codemirror_mode": {
    "name": "ipython",
    "version": 3
   },
   "file_extension": ".py",
   "mimetype": "text/x-python",
   "name": "python",
   "nbconvert_exporter": "python",
   "pygments_lexer": "ipython3",
   "version": "3.10.4"
  }
 },
 "nbformat": 4,
 "nbformat_minor": 5
}
