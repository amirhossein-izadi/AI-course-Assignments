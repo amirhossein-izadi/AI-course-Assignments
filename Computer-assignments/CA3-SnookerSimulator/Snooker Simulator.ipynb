{
 "cells": [
  {
   "cell_type": "markdown",
   "id": "a053fd68",
   "metadata": {},
   "source": [
    "<span style=\"font-size: 1.5em;\">Tree Search and Genetic Algorithm</span> \n",
    "---\n",
    "<hr style=\"border: none; border-top: 3px solid black;\">\n",
    "\n",
    "## ◎ **$\\texttt{Description}$** \n",
    "\n",
    ">In this code, a game tree is constructed and various algorithms such as Minimax and Alpha-beta pruning are applied to find the best move in the tree. Additionally, a genetic algorithm is implemented to optimize the values of the leaf nodes in the tree.\n"
   ]
  },
  {
   "cell_type": "code",
   "execution_count": 1,
   "id": "e25fe85b",
   "metadata": {},
   "outputs": [],
   "source": [
    "import random\n",
    "import networkx as nx\n",
    "import matplotlib.pyplot as plt\n",
    "from IPython.display import display, HTML"
   ]
  },
  {
   "cell_type": "markdown",
   "id": "43289795",
   "metadata": {},
   "source": [
    "    Set display width for better visualization"
   ]
  },
  {
   "cell_type": "code",
   "execution_count": 2,
   "id": "8eee657c",
   "metadata": {},
   "outputs": [
    {
     "data": {
      "text/html": [
       "<style>.container { width:95% !important; }</style>"
      ],
      "text/plain": [
       "<IPython.core.display.HTML object>"
      ]
     },
     "metadata": {},
     "output_type": "display_data"
    }
   ],
   "source": [
    "display(HTML(\"<style>.container { width:95% !important; }</style>\"))"
   ]
  },
  {
   "cell_type": "markdown",
   "id": "02c22a4b",
   "metadata": {},
   "source": [
    "\n",
    "##  ◎  $\\texttt{Node Class}$ \n",
    "\n",
    "- **The Node class is defined with the following attributes:** <br><br>\n",
    "    - `value`: A value associated with the node (default is `None`).\n",
    "    - `children`: A list of child nodes (default is an empty list).\n",
    "    - `name`: A string representing the name of the node (default is `None`).\n"
   ]
  },
  {
   "cell_type": "code",
   "execution_count": 3,
   "id": "d55a28af",
   "metadata": {},
   "outputs": [],
   "source": [
    "class Node:\n",
    "    def __init__(self, value=None, children=None, name=None):\n",
    "        self.value = value\n",
    "        self.children = children or []\n",
    "        self.name = name"
   ]
  },
  {
   "cell_type": "markdown",
   "id": "a9c96943",
   "metadata": {},
   "source": [
    "<br>\n",
    "\n",
    "##  ◎ $\\texttt{Tree Class and it's related functions}$ \n",
    "\n",
    "* **The Tree class contains methods for implementing the Minimax and Alpha-beta pruning algorithms to find the best move in the snooker simulation tree.**\n",
    "\n",
    "---\n",
    "<br>\n",
    "\n",
    "###  *`__init__`*\n",
    ">The constructor method initializes the root attribute of the tree.\n",
    "\n",
    "---\n",
    "\n",
    "### *`min_max`*\n",
    ">This method implements the Minimax algorithm to find the best move in the game tree. It takes in a node object, a bool is_maximizing to determine if the current   player is maximizing or minimizing, and a path list to keep track of the path to the best move. The method returns the value of the best move and the path to it.\n",
    "\n",
    "---\n",
    "\n",
    "### *`Alpha_beta_pruning`*\n",
    ">This method implements the Alpha-beta pruning algorithm to find the best move in the game tree. It takes in a node object, alpha and beta values, a boolean is_maximizing to determine if the current player is maximizing or minimizing, a pruning_count to keep track of the number of nodes pruned, a path list to keep track of the path to the best move, and a pruned_nodes list to keep track of the nodes that are pruned. The method returns the value of the best move, the path to it, and the number of pruned nodes.\n",
    "\n",
    "---\n",
    "\n",
    "### *`find_best_move`*\n",
    ">This method finds the best move in the game tree using either the Minimax or Alpha-beta pruning algorithm. It takes in a node object and a boolean use_alpha_beta to determine which algorithm to use. The method returns the best move, its value, the path to it, and the number of pruned nodes (if Alpha-beta pruning is used).\n",
    "\n",
    "<br>"
   ]
  },
  {
   "cell_type": "code",
   "execution_count": 4,
   "id": "ffa86eb5",
   "metadata": {},
   "outputs": [],
   "source": [
    "class Tree:\n",
    "    def __init__(self, root):\n",
    "        self.root = root\n",
    "\n",
    "    def min_max(self, node, is_maximizing, path):\n",
    "        if not node.children:\n",
    "            return node.value, path\n",
    "\n",
    "        if is_maximizing:\n",
    "            max_value = float('-inf')\n",
    "            max_path = None\n",
    "            for child in node.children:\n",
    "                child_value, child_path = self.min_max(child, False, path + [child.name])\n",
    "                if child_value > max_value:\n",
    "                    max_value = child_value\n",
    "                    max_path = child_path\n",
    "            return max_value, max_path\n",
    "        else:\n",
    "            min_value = float('inf')\n",
    "            min_path = None\n",
    "            for child in node.children:\n",
    "                child_value, child_path = self.min_max(child, True, path + [child.name])\n",
    "                if child_value < min_value:\n",
    "                    min_value = child_value\n",
    "                    min_path = child_path\n",
    "            return min_value, min_path\n",
    "\n",
    "    def alpha_beta_pruning(self, node, alpha, beta, is_maximizing, pruning_count, path, pruned_nodes):\n",
    "        if not node.children:\n",
    "            return node.value, path, pruning_count\n",
    "\n",
    "        if is_maximizing:\n",
    "            max_value = float('-inf')\n",
    "            max_path = None\n",
    "            for child in node.children:\n",
    "                child_value, child_path, pruning_count = self.alpha_beta_pruning(child, alpha, beta, False, pruning_count, path + [child.name], pruned_nodes)\n",
    "                if child_value > max_value:\n",
    "                    max_value = child_value\n",
    "                    max_path = child_path\n",
    "                alpha = max(alpha, max_value)\n",
    "                if beta <= alpha:\n",
    "                    pruned_nodes.append(child.name)  # Store pruned nodes\n",
    "                    pruning_count += 1\n",
    "                    break\n",
    "            return max_value, max_path, pruning_count\n",
    "        else:\n",
    "            min_value = float('inf')\n",
    "            min_path = None\n",
    "            for child in node.children:\n",
    "                child_value, child_path, pruning_count = self.alpha_beta_pruning(child, alpha, beta, True, pruning_count, path + [child.name], pruned_nodes)\n",
    "                if child_value < min_value:\n",
    "                    min_value = child_value\n",
    "                    min_path = child_path\n",
    "                beta = min(beta, min_value)\n",
    "                if beta <= alpha:\n",
    "                    pruned_nodes.append(child.name)  # Store pruned nodes\n",
    "                    pruning_count += 1\n",
    "                    break\n",
    "            return min_value, min_path, pruning_count\n",
    "\n",
    "    def find_best_move(self, node, use_alpha_beta=False):\n",
    "        best_move = None\n",
    "        best_value = float('-inf')\n",
    "        best_path = None\n",
    "        pruning_count = 0\n",
    "        pruned_nodes = []\n",
    "\n",
    "        for child in node.children:\n",
    "            if use_alpha_beta:\n",
    "                child_value, child_path, pruning_count = self.alpha_beta_pruning(child, float('-inf'), float('inf'), False, pruning_count, [child.name], pruned_nodes)\n",
    "            else:\n",
    "                child_value, child_path = self.min_max(child, False, [child.name])\n",
    "\n",
    "            if child_value > best_value:\n",
    "                best_value = child_value\n",
    "                best_move = child\n",
    "                best_path = child_path\n",
    "\n",
    "        if use_alpha_beta:\n",
    "            # Print pruning logs\n",
    "            print(f\"Total prunings: {pruning_count}\")\n",
    "            print(\"Pruned Nodes:\", \", \".join(pruned_nodes))\n",
    "\n",
    "        return best_move, best_value, best_path, pruning_count\n",
    "\n"
   ]
  },
  {
   "cell_type": "markdown",
   "id": "012e6750",
   "metadata": {},
   "source": [
    "### *`set_leaf_values`*\n",
    ">This function sets new values to the leaf nodes of the game tree. It takes in a tree object and a new_values list containing the new values for the leaf nodes. The function recursively updates the values of the leaf nodes in the tree by traversing it using a depth-first search approach.\n",
    "\n",
    "### *`update_leaf_values`*\n",
    ">This inner function updates the value of a leaf node and returns the index of the next value in the new_values list that should be assigned. If the current node is not a leaf node, the function recursively calls itself on each child node. The index of the next value in the list is passed along with each recursive call to ensure that each leaf node is assigned a unique value."
   ]
  },
  {
   "cell_type": "code",
   "execution_count": 5,
   "id": "b706a3f6",
   "metadata": {},
   "outputs": [],
   "source": [
    "def set_leaf_values(tree, new_values):\n",
    "    \n",
    "    def update_leaf_values(node, value_index):\n",
    "        if not node.children:  # Leaf node condition\n",
    "            node.value = new_values[value_index]\n",
    "            return value_index + 1\n",
    "\n",
    "        for child in node.children:\n",
    "            value_index = update_leaf_values(child, value_index)\n",
    "\n",
    "        return value_index\n",
    "\n",
    "    update_leaf_values(tree.root, 0)"
   ]
  },
  {
   "cell_type": "markdown",
   "id": "54efbcce",
   "metadata": {},
   "source": [
    "### *`visualize_tree`*\n",
    ">This function visualizes the game tree using NetworkX and Matplotlib libraries. It takes in a node object representing the root of the tree and creates a graph with edges between nodes. It then positions the nodes using the spring layout algorithm and labels them with their name and value. Finally, it displays the graph using Matplotlib."
   ]
  },
  {
   "cell_type": "code",
   "execution_count": 6,
   "id": "783aff50",
   "metadata": {},
   "outputs": [],
   "source": [
    "def visualize_tree(node):\n",
    "    '''plot the graph by getting it's root'''\n",
    "    G = nx.Graph()\n",
    "    \n",
    "    def add_edges(n):\n",
    "        for child in n.children:\n",
    "            G.add_edge(n, child)\n",
    "            add_edges(child)\n",
    "    \n",
    "    add_edges(node)\n",
    "    \n",
    "    pos = nx.spring_layout(G)\n",
    "    labels = {n: f\"{n.name}: {n.value}\" for n in G.nodes()}\n",
    "    \n",
    "    plt.figure(figsize=(8, 6))\n",
    "    nx.draw(G, pos, with_labels=True, labels=labels, node_color='lightblue', node_size=1000, font_size=7)\n",
    "    plt.title(\"Tree Visualization\")\n",
    "    plt.show()"
   ]
  },
  {
   "cell_type": "markdown",
   "id": "8ab8dc15",
   "metadata": {},
   "source": [
    "### *`print_best_move`*\n",
    ">This function finds the best move in the game tree for the root player using both Minimax and Alpha-beta pruning algorithms, and prints the results. It visualizes the game tree using visualize_tree, finds the best move and corresponding value and path using tree.find_best_move, and prints them using formatted strings."
   ]
  },
  {
   "cell_type": "code",
   "execution_count": 7,
   "id": "3a323735",
   "metadata": {},
   "outputs": [],
   "source": [
    "# Find the best move using Minimax\n",
    "def print_best_move(root):\n",
    "\n",
    "    visualize_tree(root)\n",
    "    print()\n",
    "    best_move, best_value, best_path, pruning_count = tree.find_best_move(root)\n",
    "\n",
    "    print(f\"Best move for root player (minimax): {best_move.name}, value: {best_value}\")\n",
    "    print(\"Path:\", \"->\".join(best_path))\n",
    "\n",
    "    print()\n",
    "    print('______________________________________________________________')\n",
    "    print()\n",
    "\n",
    "    # Find the best move using Alpha-beta pruning\n",
    "    best_move_alpha_beta, best_value_alpha_beta, best_path_alpha_beta, pruning_count_alpha_beta = tree.find_best_move(root, use_alpha_beta=True)\n",
    "\n",
    "    print(f\"Best move for root player (alpha-beta pruning): {best_move_alpha_beta.name}, value: {best_value_alpha_beta}\")\n",
    "    print(\"Path:\", \"->\".join(best_path_alpha_beta))\n",
    "    "
   ]
  },
  {
   "cell_type": "markdown",
   "id": "e355277b",
   "metadata": {},
   "source": [
    "##  ◎  $\\texttt{Example input}$ "
   ]
  },
  {
   "cell_type": "code",
   "execution_count": 8,
   "id": "6a434bd9",
   "metadata": {},
   "outputs": [],
   "source": [
    "root = Node(name=\"root\", children=[\n",
    "    \n",
    "        Node(name=\"A\", children=[\n",
    "        \n",
    "                Node(name=\"AA\", children=[\n",
    "                    Node(name=\"AAA\", children=[Node(name=\"AAAA\"),Node(name=\"AAAB\")]),\n",
    "                    Node(name=\"AAB\", children=[Node(name=\"AABA\"),Node(name=\"AABB\")])\n",
    "                ]),\n",
    "        \n",
    "                Node(name=\"AB\", children=[\n",
    "                    Node(name=\"ABA\", children=[Node(name=\"ABAA\"),Node(name=\"ABAB\")]),\n",
    "                    Node(name=\"ABB\", children=[Node(name=\"ABBA\"),Node(name=\"ABBB\")])\n",
    "                ]),\n",
    "            ]),\n",
    "    \n",
    "        Node(name=\"B\", children=[\n",
    "                Node(name=\"BA\", children=[\n",
    "                    Node(name=\"BAA\", children=[Node(name=\"BAAA\"),Node(name=\"BAAB\")]),\n",
    "                    Node(name=\"BAB\", children=[Node(name=\"BABA\"),Node(name=\"BABB\")])\n",
    "        ]),\n",
    "                Node(name=\"BB\", children=[\n",
    "                    Node(name=\"BBA\", children=[Node(name=\"BAAA\"),Node(name=\"BAAB\")]),\n",
    "                    Node(name=\"BBB\", children=[Node(name=\"BBBA\"),Node(name=\"BBBB\")])\n",
    "        ])\n",
    "    ])\n",
    "])\n",
    "\n",
    "tree = Tree(root)"
   ]
  },
  {
   "cell_type": "markdown",
   "id": "a34c8c67",
   "metadata": {},
   "source": [
    "\n",
    "---\n",
    "# <span style=\"font-size: 2em;\">Ⅰ. Part A</span> \n",
    "\n"
   ]
  },
  {
   "cell_type": "code",
   "execution_count": 30,
   "id": "7b97cee9",
   "metadata": {},
   "outputs": [
    {
     "data": {
      "image/png": "[encoded data removed]",
      "text/plain": [
       "<Figure size 576x432 with 1 Axes>"
      ]
     },
     "metadata": {},
     "output_type": "display_data"
    },
    {
     "name": "stdout",
     "output_type": "stream",
     "text": [
      "\n",
      "Best move for root player (minimax): A, value: 0\n",
      "Path: A->AB->ABA->ABAB\n",
      "\n",
      "______________________________________________________________\n",
      "\n",
      "Total prunings: 3\n",
      "Pruned Nodes: ABBA, BABB, BBBB\n",
      "Best move for root player (alpha-beta pruning): A, value: 0\n",
      "Path: A->AB->ABA->ABAB\n"
     ]
    }
   ],
   "source": [
    "leaf_values = [random.randint(-10, 15) for _ in range(16)]\n",
    "set_leaf_values(tree, leaf_values )\n",
    "print_best_move(tree.root)"
   ]
  },
  {
   "cell_type": "markdown",
   "id": "cccfc704",
   "metadata": {},
   "source": [
    "\n",
    "---\n",
    "# <span style=\"font-size: 2em;\">Ⅱ. Part B</span> \n",
    "\n"
   ]
  },
  {
   "cell_type": "markdown",
   "id": "314d87e9",
   "metadata": {},
   "source": [
    "##  ◎  $\\texttt{Genetic Algorithm}$  \n",
    "\n",
    "* **This function performs the genetic algorithm to find the best set of leaf values for the game tree. It starts by generating an initial population of size initial_population_size using the `generate_initial_population` function. It then iterates for max_generations generations, selecting parents using the `selection` function, creating children using the `crossover` function, and mutating the children using the `mutation` function. The new population is then used for the next generation. Finally, the function returns the individual with the highest fitness score.**\n",
    "---\n",
    "<br>\n",
    "\n",
    "\n",
    "### *`generate_initial_population`*\n",
    "\n",
    ">This function generates an initial population of `population_size` individuals for the genetic algorithm. Each individual is a list of length `num_leaves` containing randomly generated values in the range of -10 to 15.\n",
    "\n",
    "---\n",
    "\n",
    "### *`calculate_fitness`*\n",
    "\n",
    ">This function calculates the fitness of an individual in the genetic algorithm by setting the leaf values in the game tree to `leaf_values`, finding the best move using the Minimax algorithm, and returning the corresponding value. It calls the `set_leaf_values` and `tree.find_best_move` methods of the `tree` object to perform these operations.\n",
    "\n",
    "---\n",
    "\n",
    "### *`selection`*\n",
    "\n",
    ">This function performs selection by choosing two individuals from the `population` list with a probability proportional to their fitness scores. It uses the `random.choices` function to perform the selection.\n",
    "\n",
    "---\n",
    "\n",
    "### *`crossover`*\n",
    "\n",
    ">This function performs crossover between two parents with a probability of `crossover_rate`. It chooses a random crossover point and generates two children by swapping the values of the parents before and after the crossover point.\n",
    "\n",
    "---\n",
    "\n",
    "### *`mutation`*\n",
    "\n",
    ">This function performs mutation on an individual with a probability of `mutation_rate` for each value. It generates a random value in the range of -10 to 15 to replace the original value.\n"
   ]
  },
  {
   "cell_type": "code",
   "execution_count": 10,
   "id": "d7816224",
   "metadata": {},
   "outputs": [],
   "source": [
    "def generate_initial_population(population_size, num_leaves):\n",
    "    return [[random.randint(-10, 15) for _ in range(num_leaves)] for _ in range(population_size)]\n",
    "\n",
    "def calculate_fitness(tree, leaf_values):\n",
    "    set_leaf_values(tree, leaf_values)\n",
    "    _, best_value, _, _ = tree.find_best_move(tree.root, use_alpha_beta=False)\n",
    "    return best_value\n",
    "\n",
    "def selection(population, fitness_scores):\n",
    "    return random.choices(population, weights=fitness_scores, k=2)\n",
    "\n",
    "def crossover(parent1, parent2, crossover_rate):\n",
    "    if random.random() < crossover_rate:\n",
    "        crossover_point = random.randint(1, len(parent1) - 1)\n",
    "        child1 = parent1[:crossover_point] + parent2[crossover_point:]\n",
    "        child2 = parent2[:crossover_point] + parent1[crossover_point:]\n",
    "        return child1, child2\n",
    "    else:\n",
    "        return parent1, parent2\n",
    "\n",
    "def mutation(individual, mutation_rate):\n",
    "    for i in range(len(individual)):\n",
    "        if random.random() < mutation_rate:\n",
    "            individual[i] = random.randint(-10, 15)\n",
    "    return individual"
   ]
  },
  {
   "cell_type": "code",
   "execution_count": 11,
   "id": "26e108f3",
   "metadata": {},
   "outputs": [],
   "source": [
    "def genetic_algorithm(tree, initial_population_size, mutation_rate, crossover_rate, max_generations):\n",
    "    population = generate_initial_population(initial_population_size, 16)\n",
    "    for generation in range(max_generations):\n",
    "        fitness_scores = [calculate_fitness(tree, individual) for individual in population]\n",
    "        new_population = []\n",
    "        for _ in range(initial_population_size // 2):\n",
    "            parent1, parent2 = selection(population, fitness_scores)\n",
    "            child1, child2 = crossover(parent1, parent2, crossover_rate)\n",
    "            child1 = mutation(child1, mutation_rate)\n",
    "            child2 = mutation(child2, mutation_rate)\n",
    "            new_population.extend([child1, child2])\n",
    "        population = new_population\n",
    "\n",
    "    best_individual = max(population, key=lambda x: calculate_fitness(tree, x))\n",
    "    return best_individual"
   ]
  },
  {
   "cell_type": "code",
   "execution_count": 12,
   "id": "835642d6",
   "metadata": {
    "scrolled": true
   },
   "outputs": [
    {
     "name": "stdout",
     "output_type": "stream",
     "text": [
      "Optimized leaf values: [13, 13, -3, -5, 13, 14, 6, 13, 15, 15, -7, 13, 14, 14, 15, 5]\n"
     ]
    },
    {
     "data": {
      "image/png": "[encoded data removed]",
      "text/plain": [
       "<Figure size 576x432 with 1 Axes>"
      ]
     },
     "metadata": {},
     "output_type": "display_data"
    },
    {
     "name": "stdout",
     "output_type": "stream",
     "text": [
      "\n",
      "Best move for root player (minimax): B, value: 14\n",
      "Path: B->BB->BBA->BAAA\n",
      "\n",
      "______________________________________________________________\n",
      "\n",
      "Total prunings: 4\n",
      "Pruned Nodes: AABA, ABA, BABA, BBBB\n",
      "Best move for root player (alpha-beta pruning): B, value: 14\n",
      "Path: B->BB->BBA->BAAA\n"
     ]
    }
   ],
   "source": [
    "# Run the genetic algorithm\n",
    "optimized_leaf_values = genetic_algorithm(tree, 100, 0.1, 0.8, 50)\n",
    "print(\"Optimized leaf values:\", optimized_leaf_values)\n",
    "set_leaf_values(tree, optimized_leaf_values )\n",
    "print_best_move(tree.root)"
   ]
  }
 ],
 "metadata": {
  "kernelspec": {
   "display_name": "Python 3 (ipykernel)",
   "language": "python",
   "name": "python3"
  },
  "language_info": {
   "codemirror_mode": {
    "name": "ipython",
    "version": 3
   },
   "file_extension": ".py",
   "mimetype": "text/x-python",
   "name": "python",
   "nbconvert_exporter": "python",
   "pygments_lexer": "ipython3",
   "version": "3.10.4"
  }
 },
 "nbformat": 4,
 "nbformat_minor": 5
}
