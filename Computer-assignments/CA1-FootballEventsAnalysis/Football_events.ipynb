{
 "cells": [
  {
   "cell_type": "code",
   "execution_count": 1,
   "metadata": {
    "id": "m3LM1KoKg_XH"
   },
   "outputs": [
    {
     "name": "stderr",
     "output_type": "stream",
     "text": [
      "C:\\Users\\Aizad\\AppData\\Local\\Programs\\Python\\Python310\\lib\\site-packages\\tqdm\\auto.py:22: TqdmWarning: IProgress not found. Please update jupyter and ipywidgets. See https://ipywidgets.readthedocs.io/en/stable/user_install.html\n",
      "  from .autonotebook import tqdm as notebook_tqdm\n"
     ]
    }
   ],
   "source": [
    "import pandas as pd\n",
    "import numpy as np\n",
    "import seaborn as sns\n",
    "from matplotlib import pyplot as plt\n",
    "from IPython.display import display, HTML\n",
    "from ydata_profiling import ProfileReport"
   ]
  },
  {
   "cell_type": "markdown",
   "metadata": {},
   "source": [
    "Set display width for better visualization"
   ]
  },
  {
   "cell_type": "code",
   "execution_count": 13,
   "metadata": {},
   "outputs": [
    {
     "data": {
      "text/html": [
       "<style>.container { width:80% !important; }</style>"
      ],
      "text/plain": [
       "<IPython.core.display.HTML object>"
      ]
     },
     "metadata": {},
     "output_type": "display_data"
    }
   ],
   "source": [
    "display(HTML(\"<style>.container { width:80% !important; }</style>\"))"
   ]
  },
  {
   "cell_type": "markdown",
   "metadata": {
    "id": "oWuu1x-YBRVE"
   },
   "source": [
    "In this section you should extract some information about the [Football Events](https://www.kaggle.com/datasets/secareanualin/football-events?select=events.csv) dataset.<br>\n",
    "1. Your plots must be informative.anyone who looks at your plot must understand it without knowing the code behind it.use label, title, legend,... in your plots to do so.\n",
    "2. You must not use for/while loops in this section.\n",
    "3. Writing the answer in markdown in the notebook has extra points. \n"
   ]
  },
  {
   "cell_type": "markdown",
   "metadata": {
    "id": "fMeJB3z-MLyU"
   },
   "source": [
    "## Q0. Import the datasets\n",
    "1. import the datasets into pandas.DataFrame objects.\n",
    "2. get some insight about the dataset(use head, dtypes,colmns, ...)\n",
    "the more you do in this part the better.\n"
   ]
  },
  {
   "cell_type": "code",
   "execution_count": 14,
   "metadata": {},
   "outputs": [],
   "source": [
    "events = pd.read_csv ('datasets/events.csv')\n",
    "ginf = pd.read_csv('datasets/ginf.csv')"
   ]
  },
  {
   "cell_type": "markdown",
   "metadata": {},
   "source": [
    "### get some insights about data sets via Profile report for each datasets.\n",
    "the Html file of profile reports are accessible in datasets folder\n"
   ]
  },
  {
   "cell_type": "code",
   "execution_count": 8,
   "metadata": {},
   "outputs": [
    {
     "name": "stderr",
     "output_type": "stream",
     "text": [
      "Summarize dataset: 100%|████████████████████████████████████████████████████| 57/57 [00:46<00:00,  1.23it/s, Completed]\n",
      "Generate report structure: 100%|█████████████████████████████████████████████████████████| 1/1 [00:02<00:00,  2.55s/it]\n",
      "Render HTML: 100%|███████████████████████████████████████████████████████████████████████| 1/1 [00:01<00:00,  1.20s/it]\n",
      "Export report to file: 100%|█████████████████████████████████████████████████████████████| 1/1 [00:00<00:00, 61.92it/s]\n",
      "Summarize dataset:  80%|████████████████████████████       | 20/25 [00:00<00:00, 23.15it/s, Calculate auto correlation]C:\\Users\\Aizad\\AppData\\Local\\Programs\\Python\\Python310\\lib\\site-packages\\scipy\\stats\\_stats_py.py:4881: ConstantInputWarning: An input array is constant; the correlation coefficient is not defined.\n",
      "  warnings.warn(stats.ConstantInputWarning(warn_msg))\n",
      "Summarize dataset: 100%|██████████████████████████████████████████████████| 128/128 [00:09<00:00, 13.84it/s, Completed]\n",
      "Generate report structure: 100%|█████████████████████████████████████████████████████████| 1/1 [00:02<00:00,  2.51s/it]\n",
      "Render HTML: 100%|███████████████████████████████████████████████████████████████████████| 1/1 [00:02<00:00,  2.44s/it]\n",
      "Export report to file: 100%|█████████████████████████████████████████████████████████████| 1/1 [00:00<00:00, 71.35it/s]\n"
     ]
    }
   ],
   "source": [
    "ProfileReport(events, title = 'events data about each game profile report').to_file('datasets/events.html')\n",
    "ProfileReport(ginf, title = 'metadata and market odds about each game profile report').to_file('datasets/ginf.html')"
   ]
  },
  {
   "cell_type": "markdown",
   "metadata": {
    "id": "_1D8NHS_P0nq"
   },
   "source": [
    "## Q1. Delete the rows without detailed event data. "
   ]
  },
  {
   "cell_type": "markdown",
   "metadata": {},
   "source": [
    ">first visualize them "
   ]
  },
  {
   "cell_type": "code",
   "execution_count": 15,
   "metadata": {},
   "outputs": [
    {
     "data": {
      "text/html": [
       "<div>\n",
       "<style scoped>\n",
       "    .dataframe tbody tr th:only-of-type {\n",
       "        vertical-align: middle;\n",
       "    }\n",
       "\n",
       "    .dataframe tbody tr th {\n",
       "        vertical-align: top;\n",
       "    }\n",
       "\n",
       "    .dataframe thead th {\n",
       "        text-align: right;\n",
       "    }\n",
       "</style>\n",
       "<table border=\"1\" class=\"dataframe\">\n",
       "  <thead>\n",
       "    <tr style=\"text-align: right;\">\n",
       "      <th></th>\n",
       "      <th>id_odsp</th>\n",
       "      <th>link_odsp</th>\n",
       "      <th>adv_stats</th>\n",
       "      <th>date</th>\n",
       "      <th>league</th>\n",
       "      <th>season</th>\n",
       "      <th>country</th>\n",
       "      <th>ht</th>\n",
       "      <th>at</th>\n",
       "      <th>fthg</th>\n",
       "      <th>ftag</th>\n",
       "      <th>odd_h</th>\n",
       "      <th>odd_d</th>\n",
       "      <th>odd_a</th>\n",
       "      <th>odd_over</th>\n",
       "      <th>odd_under</th>\n",
       "      <th>odd_bts</th>\n",
       "      <th>odd_bts_n</th>\n",
       "    </tr>\n",
       "  </thead>\n",
       "  <tbody>\n",
       "    <tr>\n",
       "      <th>19</th>\n",
       "      <td>4nHmUALb/</td>\n",
       "      <td>/soccer/england/premier-league-2011-2012/fulha...</td>\n",
       "      <td>False</td>\n",
       "      <td>2011-08-13</td>\n",
       "      <td>E0</td>\n",
       "      <td>2012</td>\n",
       "      <td>england</td>\n",
       "      <td>Fulham</td>\n",
       "      <td>Aston Villa</td>\n",
       "      <td>0</td>\n",
       "      <td>0</td>\n",
       "      <td>1.95</td>\n",
       "      <td>3.65</td>\n",
       "      <td>4.51</td>\n",
       "      <td>NaN</td>\n",
       "      <td>NaN</td>\n",
       "      <td>NaN</td>\n",
       "      <td>NaN</td>\n",
       "    </tr>\n",
       "    <tr>\n",
       "      <th>20</th>\n",
       "      <td>4WY4SljB/</td>\n",
       "      <td>/soccer/england/premier-league-2011-2012/newca...</td>\n",
       "      <td>False</td>\n",
       "      <td>2011-08-13</td>\n",
       "      <td>E0</td>\n",
       "      <td>2012</td>\n",
       "      <td>england</td>\n",
       "      <td>Newcastle</td>\n",
       "      <td>Arsenal</td>\n",
       "      <td>0</td>\n",
       "      <td>0</td>\n",
       "      <td>3.60</td>\n",
       "      <td>3.55</td>\n",
       "      <td>2.25</td>\n",
       "      <td>NaN</td>\n",
       "      <td>NaN</td>\n",
       "      <td>NaN</td>\n",
       "      <td>NaN</td>\n",
       "    </tr>\n",
       "    <tr>\n",
       "      <th>21</th>\n",
       "      <td>bgY8R85H/</td>\n",
       "      <td>/soccer/england/premier-league-2011-2012/qpr-b...</td>\n",
       "      <td>False</td>\n",
       "      <td>2011-08-13</td>\n",
       "      <td>E0</td>\n",
       "      <td>2012</td>\n",
       "      <td>england</td>\n",
       "      <td>QPR</td>\n",
       "      <td>Bolton</td>\n",
       "      <td>0</td>\n",
       "      <td>4</td>\n",
       "      <td>2.20</td>\n",
       "      <td>3.35</td>\n",
       "      <td>4.09</td>\n",
       "      <td>NaN</td>\n",
       "      <td>NaN</td>\n",
       "      <td>NaN</td>\n",
       "      <td>NaN</td>\n",
       "    </tr>\n",
       "    <tr>\n",
       "      <th>26</th>\n",
       "      <td>EkQZqjLo/</td>\n",
       "      <td>/soccer/england/premier-league-2011-2012/wigan...</td>\n",
       "      <td>False</td>\n",
       "      <td>2011-08-13</td>\n",
       "      <td>E0</td>\n",
       "      <td>2012</td>\n",
       "      <td>england</td>\n",
       "      <td>Wigan</td>\n",
       "      <td>Norwich City</td>\n",
       "      <td>1</td>\n",
       "      <td>1</td>\n",
       "      <td>2.50</td>\n",
       "      <td>3.52</td>\n",
       "      <td>3.15</td>\n",
       "      <td>NaN</td>\n",
       "      <td>NaN</td>\n",
       "      <td>NaN</td>\n",
       "      <td>NaN</td>\n",
       "    </tr>\n",
       "    <tr>\n",
       "      <th>30</th>\n",
       "      <td>nB6hTUz5/</td>\n",
       "      <td>/soccer/england/premier-league-2011-2012/liver...</td>\n",
       "      <td>False</td>\n",
       "      <td>2011-08-13</td>\n",
       "      <td>E0</td>\n",
       "      <td>2012</td>\n",
       "      <td>england</td>\n",
       "      <td>Liverpool</td>\n",
       "      <td>Sunderland</td>\n",
       "      <td>1</td>\n",
       "      <td>1</td>\n",
       "      <td>1.45</td>\n",
       "      <td>4.75</td>\n",
       "      <td>10.00</td>\n",
       "      <td>NaN</td>\n",
       "      <td>NaN</td>\n",
       "      <td>NaN</td>\n",
       "      <td>NaN</td>\n",
       "    </tr>\n",
       "    <tr>\n",
       "      <th>...</th>\n",
       "      <td>...</td>\n",
       "      <td>...</td>\n",
       "      <td>...</td>\n",
       "      <td>...</td>\n",
       "      <td>...</td>\n",
       "      <td>...</td>\n",
       "      <td>...</td>\n",
       "      <td>...</td>\n",
       "      <td>...</td>\n",
       "      <td>...</td>\n",
       "      <td>...</td>\n",
       "      <td>...</td>\n",
       "      <td>...</td>\n",
       "      <td>...</td>\n",
       "      <td>...</td>\n",
       "      <td>...</td>\n",
       "      <td>...</td>\n",
       "      <td>...</td>\n",
       "    </tr>\n",
       "    <tr>\n",
       "      <th>3956</th>\n",
       "      <td>MXkDcOQC/</td>\n",
       "      <td>/soccer/england/premier-league-2013-2014/aston...</td>\n",
       "      <td>False</td>\n",
       "      <td>2013-09-28</td>\n",
       "      <td>E0</td>\n",
       "      <td>2014</td>\n",
       "      <td>england</td>\n",
       "      <td>Aston Villa</td>\n",
       "      <td>Manchester City</td>\n",
       "      <td>3</td>\n",
       "      <td>2</td>\n",
       "      <td>8.40</td>\n",
       "      <td>4.47</td>\n",
       "      <td>1.57</td>\n",
       "      <td>NaN</td>\n",
       "      <td>NaN</td>\n",
       "      <td>NaN</td>\n",
       "      <td>NaN</td>\n",
       "    </tr>\n",
       "    <tr>\n",
       "      <th>3959</th>\n",
       "      <td>SUxaLRIJ/</td>\n",
       "      <td>/soccer/england/premier-league-2013-2014/hull-...</td>\n",
       "      <td>False</td>\n",
       "      <td>2013-09-28</td>\n",
       "      <td>E0</td>\n",
       "      <td>2014</td>\n",
       "      <td>england</td>\n",
       "      <td>Hull</td>\n",
       "      <td>West Ham</td>\n",
       "      <td>1</td>\n",
       "      <td>0</td>\n",
       "      <td>2.50</td>\n",
       "      <td>3.30</td>\n",
       "      <td>3.80</td>\n",
       "      <td>NaN</td>\n",
       "      <td>NaN</td>\n",
       "      <td>NaN</td>\n",
       "      <td>NaN</td>\n",
       "    </tr>\n",
       "    <tr>\n",
       "      <th>3968</th>\n",
       "      <td>KSHwEqBg/</td>\n",
       "      <td>/soccer/england/premier-league-2013-2014/sunde...</td>\n",
       "      <td>False</td>\n",
       "      <td>2013-09-29</td>\n",
       "      <td>E0</td>\n",
       "      <td>2014</td>\n",
       "      <td>england</td>\n",
       "      <td>Sunderland</td>\n",
       "      <td>Liverpool</td>\n",
       "      <td>1</td>\n",
       "      <td>3</td>\n",
       "      <td>6.30</td>\n",
       "      <td>4.30</td>\n",
       "      <td>1.70</td>\n",
       "      <td>NaN</td>\n",
       "      <td>NaN</td>\n",
       "      <td>NaN</td>\n",
       "      <td>NaN</td>\n",
       "    </tr>\n",
       "    <tr>\n",
       "      <th>3970</th>\n",
       "      <td>Q5IZEPem/</td>\n",
       "      <td>/soccer/england/premier-league-2013-2014/stoke...</td>\n",
       "      <td>False</td>\n",
       "      <td>2013-09-29</td>\n",
       "      <td>E0</td>\n",
       "      <td>2014</td>\n",
       "      <td>england</td>\n",
       "      <td>Stoke City</td>\n",
       "      <td>Norwich City</td>\n",
       "      <td>0</td>\n",
       "      <td>1</td>\n",
       "      <td>2.05</td>\n",
       "      <td>3.50</td>\n",
       "      <td>4.75</td>\n",
       "      <td>NaN</td>\n",
       "      <td>NaN</td>\n",
       "      <td>NaN</td>\n",
       "      <td>NaN</td>\n",
       "    </tr>\n",
       "    <tr>\n",
       "      <th>3982</th>\n",
       "      <td>0OlHdrtJ/</td>\n",
       "      <td>/soccer/england/premier-league-2013-2014/evert...</td>\n",
       "      <td>False</td>\n",
       "      <td>2013-09-30</td>\n",
       "      <td>E0</td>\n",
       "      <td>2014</td>\n",
       "      <td>england</td>\n",
       "      <td>Everton</td>\n",
       "      <td>Newcastle</td>\n",
       "      <td>3</td>\n",
       "      <td>2</td>\n",
       "      <td>1.70</td>\n",
       "      <td>4.60</td>\n",
       "      <td>6.90</td>\n",
       "      <td>NaN</td>\n",
       "      <td>NaN</td>\n",
       "      <td>NaN</td>\n",
       "      <td>NaN</td>\n",
       "    </tr>\n",
       "  </tbody>\n",
       "</table>\n",
       "<p>930 rows × 18 columns</p>\n",
       "</div>"
      ],
      "text/plain": [
       "        id_odsp                                          link_odsp  adv_stats  \\\n",
       "19    4nHmUALb/  /soccer/england/premier-league-2011-2012/fulha...      False   \n",
       "20    4WY4SljB/  /soccer/england/premier-league-2011-2012/newca...      False   \n",
       "21    bgY8R85H/  /soccer/england/premier-league-2011-2012/qpr-b...      False   \n",
       "26    EkQZqjLo/  /soccer/england/premier-league-2011-2012/wigan...      False   \n",
       "30    nB6hTUz5/  /soccer/england/premier-league-2011-2012/liver...      False   \n",
       "...         ...                                                ...        ...   \n",
       "3956  MXkDcOQC/  /soccer/england/premier-league-2013-2014/aston...      False   \n",
       "3959  SUxaLRIJ/  /soccer/england/premier-league-2013-2014/hull-...      False   \n",
       "3968  KSHwEqBg/  /soccer/england/premier-league-2013-2014/sunde...      False   \n",
       "3970  Q5IZEPem/  /soccer/england/premier-league-2013-2014/stoke...      False   \n",
       "3982  0OlHdrtJ/  /soccer/england/premier-league-2013-2014/evert...      False   \n",
       "\n",
       "            date league  season  country           ht               at  fthg  \\\n",
       "19    2011-08-13     E0    2012  england       Fulham      Aston Villa     0   \n",
       "20    2011-08-13     E0    2012  england    Newcastle          Arsenal     0   \n",
       "21    2011-08-13     E0    2012  england          QPR           Bolton     0   \n",
       "26    2011-08-13     E0    2012  england        Wigan     Norwich City     1   \n",
       "30    2011-08-13     E0    2012  england    Liverpool       Sunderland     1   \n",
       "...          ...    ...     ...      ...          ...              ...   ...   \n",
       "3956  2013-09-28     E0    2014  england  Aston Villa  Manchester City     3   \n",
       "3959  2013-09-28     E0    2014  england         Hull         West Ham     1   \n",
       "3968  2013-09-29     E0    2014  england   Sunderland        Liverpool     1   \n",
       "3970  2013-09-29     E0    2014  england   Stoke City     Norwich City     0   \n",
       "3982  2013-09-30     E0    2014  england      Everton        Newcastle     3   \n",
       "\n",
       "      ftag  odd_h  odd_d  odd_a  odd_over  odd_under  odd_bts  odd_bts_n  \n",
       "19       0   1.95   3.65   4.51       NaN        NaN      NaN        NaN  \n",
       "20       0   3.60   3.55   2.25       NaN        NaN      NaN        NaN  \n",
       "21       4   2.20   3.35   4.09       NaN        NaN      NaN        NaN  \n",
       "26       1   2.50   3.52   3.15       NaN        NaN      NaN        NaN  \n",
       "30       1   1.45   4.75  10.00       NaN        NaN      NaN        NaN  \n",
       "...    ...    ...    ...    ...       ...        ...      ...        ...  \n",
       "3956     2   8.40   4.47   1.57       NaN        NaN      NaN        NaN  \n",
       "3959     0   2.50   3.30   3.80       NaN        NaN      NaN        NaN  \n",
       "3968     3   6.30   4.30   1.70       NaN        NaN      NaN        NaN  \n",
       "3970     1   2.05   3.50   4.75       NaN        NaN      NaN        NaN  \n",
       "3982     2   1.70   4.60   6.90       NaN        NaN      NaN        NaN  \n",
       "\n",
       "[930 rows x 18 columns]"
      ]
     },
     "execution_count": 15,
     "metadata": {},
     "output_type": "execute_result"
    }
   ],
   "source": [
    "ginf.loc[ginf['adv_stats']== False]"
   ]
  },
  {
   "cell_type": "markdown",
   "metadata": {},
   "source": [
    ">then delete them "
   ]
  },
  {
   "cell_type": "code",
   "execution_count": 16,
   "metadata": {
    "id": "GqKz6jt3Ql8D"
   },
   "outputs": [],
   "source": [
    "ginf.query('adv_stats', inplace=True)"
   ]
  },
  {
   "cell_type": "markdown",
   "metadata": {},
   "source": [
    ">now the column 'adv_stats' is redundent and its better to delete this column"
   ]
  },
  {
   "cell_type": "code",
   "execution_count": 17,
   "metadata": {},
   "outputs": [],
   "source": [
    "del ginf['adv_stats']"
   ]
  },
  {
   "cell_type": "markdown",
   "metadata": {
    "id": "EGI2sOPhBUu-"
   },
   "source": [
    "## Q2. Extract the top most eventfull games\n",
    "1. Write a function that returns the top n most eventfull games as pandas.DataFrame\n",
    "2. plot the 10 top games using the function above with a <b>horizontal bar chart</b>.<br>\n",
    "<b>be carefull not to use game-id's in the plot, use their name.</b>\n",
    "    \n",
    "    "
   ]
  },
  {
   "cell_type": "code",
   "execution_count": 22,
   "metadata": {
    "id": "O6i_Op0ahs65"
   },
   "outputs": [],
   "source": [
    "def n_most_eventfull_games (n):  \n",
    "    \n",
    "    df = events.value_counts('id_odsp').nlargest(n).reset_index()\n",
    "    df.columns = ['id_odsp', 'count']\n",
    "    df = df.merge(ginf[['id_odsp', 'ht', 'at']], on ='id_odsp')\n",
    "    df ['games'] = df['ht'] + ' Vs ' + df['at']\n",
    "    return df[['games','count']]\n",
    "\n",
    "\n",
    "top10_eventfull_games = n_most_eventfull_games(10)"
   ]
  },
  {
   "cell_type": "markdown",
   "metadata": {},
   "source": [
    ">now plot the top10 most eventfull games in the format of each game {home vs away} and its frequency  "
   ]
  },
  {
   "cell_type": "code",
   "execution_count": 23,
   "metadata": {},
   "outputs": [
    {
     "data": {
      "text/plain": [
       "<AxesSubplot: ylabel='games'>"
      ]
     },
     "execution_count": 23,
     "metadata": {},
     "output_type": "execute_result"
    },
    {
     "data": {
      "image/png": "[encoded data removed]",
      "text/plain": [
       "<Figure size 432x288 with 1 Axes>"
      ]
     },
     "metadata": {
      "needs_background": "light"
     },
     "output_type": "display_data"
    }
   ],
   "source": [
    "top10_eventfull_games.plot.barh(x='games', y='count')"
   ]
  },
  {
   "attachments": {
    "image.png": {
     "image/png": "[encoded data removed]"
    }
   },
   "cell_type": "markdown",
   "metadata": {},
   "source": [
    "![image.png](attachment:image.png) "
   ]
  },
  {
   "cell_type": "markdown",
   "metadata": {
    "id": "BWD6e5vSET2a"
   },
   "source": [
    "## Q3. What are the most frequent events?\n",
    "1. Write a function that returns the n most frequent events as pandas.DataFrame\n",
    "2. plot the 5 most frequent events  using the function above with a <b>Pie chart</b>.<br>"
   ]
  },
  {
   "cell_type": "code",
   "execution_count": 24,
   "metadata": {
    "id": "Lf-fnYfWiElE"
   },
   "outputs": [],
   "source": [
    "def n_most_frequent_events (n):\n",
    "    df = events.value_counts('id_event').nlargest(n).reset_index()\n",
    "    df.columns = ['id_event', 'count']\n",
    "    return df\n",
    "\n",
    "top5_frequent_events = n_most_frequent_events(5)"
   ]
  },
  {
   "cell_type": "markdown",
   "metadata": {},
   "source": [
    "> now plot top 5 frequent events via <b>pie chart<b>."
   ]
  },
  {
   "cell_type": "code",
   "execution_count": 25,
   "metadata": {
    "scrolled": true
   },
   "outputs": [
    {
     "data": {
      "image/png": "[encoded data removed]",
      "text/plain": [
       "<Figure size 432x288 with 1 Axes>"
      ]
     },
     "metadata": {},
     "output_type": "display_data"
    }
   ],
   "source": [
    "id_events = list(top5_frequent_events['id_event'])\n",
    "count = list(top5_frequent_events['count'])\n",
    "\n",
    "\n",
    "plt.pie(count, labels=id_events ) \n",
    "plt.show()"
   ]
  },
  {
   "attachments": {
    "image.png": {
     "image/png": "[encoded data removed]"
    }
   },
   "cell_type": "markdown",
   "metadata": {},
   "source": [
    "![image.png](attachment:image.png)"
   ]
  },
  {
   "cell_type": "markdown",
   "metadata": {
    "id": "6upMZ04SPVCE"
   },
   "source": [
    "## Q4. Find the distribution of the time each goal is scored.\n",
    "In this part we want to notice that on which times during a game the goals are scored.(use histogram)"
   ]
  },
  {
   "cell_type": "markdown",
   "metadata": {},
   "source": [
    ">create a new dataframe with relevant columns <br> then plot goal-time distirbution"
   ]
  },
  {
   "cell_type": "code",
   "execution_count": 26,
   "metadata": {
    "id": "Bh4a9s7BYf_T"
   },
   "outputs": [
    {
     "data": {
      "image/png": "[encoded data removed]",
      "text/plain": [
       "<Figure size 432x288 with 1 Axes>"
      ]
     },
     "metadata": {
      "needs_background": "light"
     },
     "output_type": "display_data"
    }
   ],
   "source": [
    "goals = events.loc[events['is_goal'] == True , ['time']]\n",
    "\n",
    "# create a histogram of goal times with 48 bins with average of game lenght 94 min this distribution bins are nearly 2 min \n",
    "goals.hist(bins= 47)\n",
    "plt.xlabel('Goal Time')\n",
    "plt.ylabel('Frequency')\n",
    "plt.show()"
   ]
  },
  {
   "attachments": {
    "image.png": {
     "image/png": "[encoded data removed]"
    }
   },
   "cell_type": "markdown",
   "metadata": {},
   "source": [
    "![image.png](attachment:image.png)"
   ]
  },
  {
   "cell_type": "markdown",
   "metadata": {
    "id": "9boTJDctb9dK"
   },
   "source": [
    "## Q5. shots outcome\n",
    " We want to create a DataFrame containing the total number of (1-On target, 2-Off target, 3-Blocked, 4-Hit the post)shot outcomes for four quarters of a game. You must create a 4-row and 4-column DataFrame for shot outcomes and the time they happend.<br>\n",
    "### Four quarters:\n",
    "1. 0 to 25\n",
    "2. 25 to 45\n",
    "3. 45 to 70\n",
    "4. 70 to ..."
   ]
  },
  {
   "cell_type": "code",
   "execution_count": 27,
   "metadata": {
    "id": "1A7T2_9-iVUZ",
    "scrolled": true
   },
   "outputs": [
    {
     "data": {
      "text/html": [
       "<div>\n",
       "<style scoped>\n",
       "    .dataframe tbody tr th:only-of-type {\n",
       "        vertical-align: middle;\n",
       "    }\n",
       "\n",
       "    .dataframe tbody tr th {\n",
       "        vertical-align: top;\n",
       "    }\n",
       "\n",
       "    .dataframe thead th {\n",
       "        text-align: right;\n",
       "    }\n",
       "</style>\n",
       "<table border=\"1\" class=\"dataframe\">\n",
       "  <thead>\n",
       "    <tr style=\"text-align: right;\">\n",
       "      <th>shot_outcome</th>\n",
       "      <th>1.0</th>\n",
       "      <th>2.0</th>\n",
       "      <th>3.0</th>\n",
       "      <th>4.0</th>\n",
       "    </tr>\n",
       "    <tr>\n",
       "      <th>quarter</th>\n",
       "      <th></th>\n",
       "      <th></th>\n",
       "      <th></th>\n",
       "      <th></th>\n",
       "    </tr>\n",
       "  </thead>\n",
       "  <tbody>\n",
       "    <tr>\n",
       "      <th>Q1</th>\n",
       "      <td>17994</td>\n",
       "      <td>22518</td>\n",
       "      <td>12615</td>\n",
       "      <td>770</td>\n",
       "    </tr>\n",
       "    <tr>\n",
       "      <th>Q2</th>\n",
       "      <td>16830</td>\n",
       "      <td>20603</td>\n",
       "      <td>12270</td>\n",
       "      <td>816</td>\n",
       "    </tr>\n",
       "    <tr>\n",
       "      <th>Q3</th>\n",
       "      <td>21578</td>\n",
       "      <td>25368</td>\n",
       "      <td>14974</td>\n",
       "      <td>970</td>\n",
       "    </tr>\n",
       "    <tr>\n",
       "      <th>Q4</th>\n",
       "      <td>21598</td>\n",
       "      <td>24323</td>\n",
       "      <td>14217</td>\n",
       "      <td>1019</td>\n",
       "    </tr>\n",
       "  </tbody>\n",
       "</table>\n",
       "</div>"
      ],
      "text/plain": [
       "shot_outcome    1.0    2.0    3.0   4.0\n",
       "quarter                                \n",
       "Q1            17994  22518  12615   770\n",
       "Q2            16830  20603  12270   816\n",
       "Q3            21578  25368  14974   970\n",
       "Q4            21598  24323  14217  1019"
      ]
     },
     "execution_count": 27,
     "metadata": {},
     "output_type": "execute_result"
    }
   ],
   "source": [
    "quarter_bins = [0, 25, 45, 70, float('inf')]\n",
    "quarter_labels = ['Q1', 'Q2', 'Q3', 'Q4']\n",
    "\n",
    "\n",
    "df = events.loc[:,['shot_outcome','time']]\n",
    "df['quarter'] = pd.cut(df['time'], bins=quarter_bins, labels=quarter_labels)\n",
    "\n",
    "\n",
    "shot_outcome_table = pd.pivot_table(df, index='quarter', columns='shot_outcome', aggfunc='size', fill_value=0)\n",
    "shot_outcome_table"
   ]
  },
  {
   "cell_type": "markdown",
   "metadata": {
    "id": "sV8oyfWHpwSz"
   },
   "source": [
    "## Q6. Find the mean of events in diffrent years\n",
    " "
   ]
  },
  {
   "cell_type": "markdown",
   "metadata": {},
   "source": [
    ">1. We want to create a DataFrame containing the average of **event_type** for diffrent years.The dataframe must have 11 rows for each event_type."
   ]
  },
  {
   "cell_type": "code",
   "execution_count": 28,
   "metadata": {
    "id": "Urih2WGJm_sp"
   },
   "outputs": [],
   "source": [
    "df = events[['id_odsp','id_event' ,'event_type']]\n",
    "df = df.merge(ginf[['id_odsp', 'season']], on ='id_odsp').groupby(['season','event_type','id_odsp']).size().reset_index(name='count')\n",
    "df = df.groupby(['event_type', 'season'])['count'].mean().reset_index(name='avg_CPM')\n",
    "\n",
    "events_avg_cpm = df.pivot(index='event_type', columns='season', values='avg_CPM')"
   ]
  },
  {
   "cell_type": "markdown",
   "metadata": {},
   "source": [
    ">2. plot the result in a way that you think is more informative.\n"
   ]
  },
  {
   "cell_type": "code",
   "execution_count": 29,
   "metadata": {},
   "outputs": [
    {
     "data": {
      "image/png": "[encoded data removed]",
      "text/plain": [
       "<Figure size 432x288 with 2 Axes>"
      ]
     },
     "metadata": {
      "needs_background": "light"
     },
     "output_type": "display_data"
    }
   ],
   "source": [
    "# plot the heatmap with a diverging color map\n",
    "sns.heatmap(events_avg_cpm, cmap='coolwarm', center=events_avg_cpm.mean().mean(),)\n",
    "\n",
    "plt.title('Average Events per Match by Season and Event Type')\n",
    "plt.xlabel('Season')\n",
    "plt.ylabel('Event Type')\n",
    "plt.show()"
   ]
  },
  {
   "attachments": {
    "image.png": {
     "image/png": "[encoded data removed]"
    }
   },
   "cell_type": "markdown",
   "metadata": {},
   "source": [
    "![image.png](attachment:image.png)"
   ]
  },
  {
   "cell_type": "markdown",
   "metadata": {
    "id": "Q3uWWHk1SxuX"
   },
   "source": [
    "## Q7. Most-scoring leages\n",
    "Sort the leages by the average of scores in a season."
   ]
  },
  {
   "cell_type": "markdown",
   "metadata": {},
   "source": [
    " "
   ]
  },
  {
   "cell_type": "code",
   "execution_count": 30,
   "metadata": {
    "id": "7wl85nDhUfPR"
   },
   "outputs": [
    {
     "data": {
      "text/html": [
       "<div>\n",
       "<style scoped>\n",
       "    .dataframe tbody tr th:only-of-type {\n",
       "        vertical-align: middle;\n",
       "    }\n",
       "\n",
       "    .dataframe tbody tr th {\n",
       "        vertical-align: top;\n",
       "    }\n",
       "\n",
       "    .dataframe thead th {\n",
       "        text-align: right;\n",
       "    }\n",
       "</style>\n",
       "<table border=\"1\" class=\"dataframe\">\n",
       "  <thead>\n",
       "    <tr style=\"text-align: right;\">\n",
       "      <th></th>\n",
       "      <th>league</th>\n",
       "      <th>season</th>\n",
       "      <th>avg_spm</th>\n",
       "    </tr>\n",
       "  </thead>\n",
       "  <tbody>\n",
       "    <tr>\n",
       "      <th>0</th>\n",
       "      <td>D1</td>\n",
       "      <td>2013</td>\n",
       "      <td>2.921569</td>\n",
       "    </tr>\n",
       "    <tr>\n",
       "      <th>1</th>\n",
       "      <td>SP1</td>\n",
       "      <td>2013</td>\n",
       "      <td>2.871053</td>\n",
       "    </tr>\n",
       "    <tr>\n",
       "      <th>2</th>\n",
       "      <td>D1</td>\n",
       "      <td>2016</td>\n",
       "      <td>2.839869</td>\n",
       "    </tr>\n",
       "    <tr>\n",
       "      <th>3</th>\n",
       "      <td>D1</td>\n",
       "      <td>2014</td>\n",
       "      <td>2.807190</td>\n",
       "    </tr>\n",
       "    <tr>\n",
       "      <th>4</th>\n",
       "      <td>D1</td>\n",
       "      <td>2015</td>\n",
       "      <td>2.761438</td>\n",
       "    </tr>\n",
       "    <tr>\n",
       "      <th>5</th>\n",
       "      <td>SP1</td>\n",
       "      <td>2014</td>\n",
       "      <td>2.750000</td>\n",
       "    </tr>\n",
       "    <tr>\n",
       "      <th>6</th>\n",
       "      <td>SP1</td>\n",
       "      <td>2016</td>\n",
       "      <td>2.744737</td>\n",
       "    </tr>\n",
       "    <tr>\n",
       "      <th>7</th>\n",
       "      <td>D1</td>\n",
       "      <td>2012</td>\n",
       "      <td>2.732026</td>\n",
       "    </tr>\n",
       "    <tr>\n",
       "      <th>8</th>\n",
       "      <td>I1</td>\n",
       "      <td>2014</td>\n",
       "      <td>2.723684</td>\n",
       "    </tr>\n",
       "    <tr>\n",
       "      <th>9</th>\n",
       "      <td>E0</td>\n",
       "      <td>2016</td>\n",
       "      <td>2.700000</td>\n",
       "    </tr>\n",
       "    <tr>\n",
       "      <th>10</th>\n",
       "      <td>I1</td>\n",
       "      <td>2015</td>\n",
       "      <td>2.694737</td>\n",
       "    </tr>\n",
       "    <tr>\n",
       "      <th>11</th>\n",
       "      <td>SP1</td>\n",
       "      <td>2015</td>\n",
       "      <td>2.655263</td>\n",
       "    </tr>\n",
       "    <tr>\n",
       "      <th>12</th>\n",
       "      <td>I1</td>\n",
       "      <td>2013</td>\n",
       "      <td>2.631579</td>\n",
       "    </tr>\n",
       "    <tr>\n",
       "      <th>13</th>\n",
       "      <td>SP1</td>\n",
       "      <td>2012</td>\n",
       "      <td>2.605263</td>\n",
       "    </tr>\n",
       "    <tr>\n",
       "      <th>14</th>\n",
       "      <td>I1</td>\n",
       "      <td>2016</td>\n",
       "      <td>2.576316</td>\n",
       "    </tr>\n",
       "    <tr>\n",
       "      <th>15</th>\n",
       "      <td>E0</td>\n",
       "      <td>2015</td>\n",
       "      <td>2.565789</td>\n",
       "    </tr>\n",
       "    <tr>\n",
       "      <th>16</th>\n",
       "      <td>F1</td>\n",
       "      <td>2016</td>\n",
       "      <td>2.526316</td>\n",
       "    </tr>\n",
       "    <tr>\n",
       "      <th>17</th>\n",
       "      <td>F1</td>\n",
       "      <td>2013</td>\n",
       "      <td>2.513158</td>\n",
       "    </tr>\n",
       "    <tr>\n",
       "      <th>18</th>\n",
       "      <td>F1</td>\n",
       "      <td>2015</td>\n",
       "      <td>2.492105</td>\n",
       "    </tr>\n",
       "    <tr>\n",
       "      <th>19</th>\n",
       "      <td>F1</td>\n",
       "      <td>2014</td>\n",
       "      <td>2.450000</td>\n",
       "    </tr>\n",
       "    <tr>\n",
       "      <th>20</th>\n",
       "      <td>F1</td>\n",
       "      <td>2012</td>\n",
       "      <td>2.444737</td>\n",
       "    </tr>\n",
       "    <tr>\n",
       "      <th>21</th>\n",
       "      <td>I1</td>\n",
       "      <td>2012</td>\n",
       "      <td>2.442105</td>\n",
       "    </tr>\n",
       "    <tr>\n",
       "      <th>22</th>\n",
       "      <td>E0</td>\n",
       "      <td>2014</td>\n",
       "      <td>2.410526</td>\n",
       "    </tr>\n",
       "    <tr>\n",
       "      <th>23</th>\n",
       "      <td>E0</td>\n",
       "      <td>2017</td>\n",
       "      <td>1.657895</td>\n",
       "    </tr>\n",
       "    <tr>\n",
       "      <th>24</th>\n",
       "      <td>I1</td>\n",
       "      <td>2017</td>\n",
       "      <td>1.500000</td>\n",
       "    </tr>\n",
       "    <tr>\n",
       "      <th>25</th>\n",
       "      <td>SP1</td>\n",
       "      <td>2017</td>\n",
       "      <td>1.444737</td>\n",
       "    </tr>\n",
       "    <tr>\n",
       "      <th>26</th>\n",
       "      <td>F1</td>\n",
       "      <td>2017</td>\n",
       "      <td>1.373684</td>\n",
       "    </tr>\n",
       "    <tr>\n",
       "      <th>27</th>\n",
       "      <td>D1</td>\n",
       "      <td>2017</td>\n",
       "      <td>1.333333</td>\n",
       "    </tr>\n",
       "  </tbody>\n",
       "</table>\n",
       "</div>"
      ],
      "text/plain": [
       "   league  season   avg_spm\n",
       "0      D1    2013  2.921569\n",
       "1     SP1    2013  2.871053\n",
       "2      D1    2016  2.839869\n",
       "3      D1    2014  2.807190\n",
       "4      D1    2015  2.761438\n",
       "5     SP1    2014  2.750000\n",
       "6     SP1    2016  2.744737\n",
       "7      D1    2012  2.732026\n",
       "8      I1    2014  2.723684\n",
       "9      E0    2016  2.700000\n",
       "10     I1    2015  2.694737\n",
       "11    SP1    2015  2.655263\n",
       "12     I1    2013  2.631579\n",
       "13    SP1    2012  2.605263\n",
       "14     I1    2016  2.576316\n",
       "15     E0    2015  2.565789\n",
       "16     F1    2016  2.526316\n",
       "17     F1    2013  2.513158\n",
       "18     F1    2015  2.492105\n",
       "19     F1    2014  2.450000\n",
       "20     F1    2012  2.444737\n",
       "21     I1    2012  2.442105\n",
       "22     E0    2014  2.410526\n",
       "23     E0    2017  1.657895\n",
       "24     I1    2017  1.500000\n",
       "25    SP1    2017  1.444737\n",
       "26     F1    2017  1.373684\n",
       "27     D1    2017  1.333333"
      ]
     },
     "execution_count": 30,
     "metadata": {},
     "output_type": "execute_result"
    }
   ],
   "source": [
    "# 20*19=380 for 20teams leagues and 18*17=306 for 18teams league\n",
    "matches_per_season = {'D1': 306, 'E0': 380, 'SP1': 380, 'F1': 380, 'I1': 380} \n",
    "\n",
    "#SPM is abbrv of scores per match\n",
    "df = ginf.groupby(['league', 'season'])[['fthg', 'ftag']].sum().sum(axis=1).reset_index(name='scores')\n",
    "df['avg_spm'] = df['scores'] / df['league'].map(matches_per_season)\n",
    "df = df.loc[:, df.columns != 'scores'].groupby(['league', 'season']).mean().reset_index()\n",
    "df.sort_values(['avg_spm','season'], ascending=[False,True], inplace = True, ignore_index=True,)\n",
    "\n",
    "leagues_avg_spm = df\n",
    "leagues_avg_spm"
   ]
  },
  {
   "cell_type": "markdown",
   "metadata": {
    "id": "3fU6wlTTUhii"
   },
   "source": [
    "## Q8. Find the games that the away team won by 3 or more goal diffrence."
   ]
  },
  {
   "cell_type": "code",
   "execution_count": 31,
   "metadata": {
    "id": "kmgOaBd5VJzz"
   },
   "outputs": [
    {
     "data": {
      "text/html": [
       "<div>\n",
       "<style scoped>\n",
       "    .dataframe tbody tr th:only-of-type {\n",
       "        vertical-align: middle;\n",
       "    }\n",
       "\n",
       "    .dataframe tbody tr th {\n",
       "        vertical-align: top;\n",
       "    }\n",
       "\n",
       "    .dataframe thead th {\n",
       "        text-align: right;\n",
       "    }\n",
       "</style>\n",
       "<table border=\"1\" class=\"dataframe\">\n",
       "  <thead>\n",
       "    <tr style=\"text-align: right;\">\n",
       "      <th></th>\n",
       "      <th>id_odsp</th>\n",
       "      <th>link_odsp</th>\n",
       "      <th>date</th>\n",
       "      <th>league</th>\n",
       "      <th>season</th>\n",
       "      <th>country</th>\n",
       "      <th>ht</th>\n",
       "      <th>at</th>\n",
       "      <th>fthg</th>\n",
       "      <th>ftag</th>\n",
       "      <th>odd_h</th>\n",
       "      <th>odd_d</th>\n",
       "      <th>odd_a</th>\n",
       "      <th>odd_over</th>\n",
       "      <th>odd_under</th>\n",
       "      <th>odd_bts</th>\n",
       "      <th>odd_bts_n</th>\n",
       "      <th>three_goal_margin</th>\n",
       "    </tr>\n",
       "  </thead>\n",
       "  <tbody>\n",
       "    <tr>\n",
       "      <th>9</th>\n",
       "      <td>Wn69eU5B/</td>\n",
       "      <td>/soccer/germany/bundesliga-2011-2012/koln-wolf...</td>\n",
       "      <td>2011-08-06</td>\n",
       "      <td>D1</td>\n",
       "      <td>2012</td>\n",
       "      <td>germany</td>\n",
       "      <td>FC Cologne</td>\n",
       "      <td>VfL Wolfsburg</td>\n",
       "      <td>0</td>\n",
       "      <td>3</td>\n",
       "      <td>3.00</td>\n",
       "      <td>3.80</td>\n",
       "      <td>2.54</td>\n",
       "      <td>NaN</td>\n",
       "      <td>NaN</td>\n",
       "      <td>NaN</td>\n",
       "      <td>NaN</td>\n",
       "      <td>True</td>\n",
       "    </tr>\n",
       "    <tr>\n",
       "      <th>16</th>\n",
       "      <td>fLN0n0XO/</td>\n",
       "      <td>/soccer/france/ligue-1-2011-2012/dijon-rennes-...</td>\n",
       "      <td>2011-08-07</td>\n",
       "      <td>F1</td>\n",
       "      <td>2012</td>\n",
       "      <td>france</td>\n",
       "      <td>Dijon FCO</td>\n",
       "      <td>Stade Rennes</td>\n",
       "      <td>1</td>\n",
       "      <td>5</td>\n",
       "      <td>3.35</td>\n",
       "      <td>3.27</td>\n",
       "      <td>2.50</td>\n",
       "      <td>NaN</td>\n",
       "      <td>NaN</td>\n",
       "      <td>NaN</td>\n",
       "      <td>NaN</td>\n",
       "      <td>True</td>\n",
       "    </tr>\n",
       "    <tr>\n",
       "      <th>84</th>\n",
       "      <td>htFsNcAR/</td>\n",
       "      <td>/soccer/germany/bundesliga-2011-2012/kaisersla...</td>\n",
       "      <td>2011-08-27</td>\n",
       "      <td>D1</td>\n",
       "      <td>2012</td>\n",
       "      <td>germany</td>\n",
       "      <td>Kaiserslautern</td>\n",
       "      <td>Bayern Munich</td>\n",
       "      <td>0</td>\n",
       "      <td>3</td>\n",
       "      <td>7.60</td>\n",
       "      <td>4.70</td>\n",
       "      <td>1.52</td>\n",
       "      <td>NaN</td>\n",
       "      <td>NaN</td>\n",
       "      <td>NaN</td>\n",
       "      <td>NaN</td>\n",
       "      <td>True</td>\n",
       "    </tr>\n",
       "    <tr>\n",
       "      <th>102</th>\n",
       "      <td>C88uY13B/</td>\n",
       "      <td>/soccer/spain/primera-division-2011-2012/zarag...</td>\n",
       "      <td>2011-08-28</td>\n",
       "      <td>SP1</td>\n",
       "      <td>2012</td>\n",
       "      <td>spain</td>\n",
       "      <td>Real Zaragoza</td>\n",
       "      <td>Real Madrid</td>\n",
       "      <td>0</td>\n",
       "      <td>6</td>\n",
       "      <td>12.33</td>\n",
       "      <td>6.20</td>\n",
       "      <td>1.30</td>\n",
       "      <td>NaN</td>\n",
       "      <td>NaN</td>\n",
       "      <td>NaN</td>\n",
       "      <td>NaN</td>\n",
       "      <td>True</td>\n",
       "    </tr>\n",
       "    <tr>\n",
       "      <th>115</th>\n",
       "      <td>jLzeUf2l/</td>\n",
       "      <td>/soccer/germany/bundesliga-2011-2012/augsburg-...</td>\n",
       "      <td>2011-09-09</td>\n",
       "      <td>D1</td>\n",
       "      <td>2012</td>\n",
       "      <td>germany</td>\n",
       "      <td>FC Augsburg</td>\n",
       "      <td>Bayer Leverkusen</td>\n",
       "      <td>1</td>\n",
       "      <td>4</td>\n",
       "      <td>4.34</td>\n",
       "      <td>3.65</td>\n",
       "      <td>2.00</td>\n",
       "      <td>NaN</td>\n",
       "      <td>NaN</td>\n",
       "      <td>NaN</td>\n",
       "      <td>NaN</td>\n",
       "      <td>True</td>\n",
       "    </tr>\n",
       "    <tr>\n",
       "      <th>...</th>\n",
       "      <td>...</td>\n",
       "      <td>...</td>\n",
       "      <td>...</td>\n",
       "      <td>...</td>\n",
       "      <td>...</td>\n",
       "      <td>...</td>\n",
       "      <td>...</td>\n",
       "      <td>...</td>\n",
       "      <td>...</td>\n",
       "      <td>...</td>\n",
       "      <td>...</td>\n",
       "      <td>...</td>\n",
       "      <td>...</td>\n",
       "      <td>...</td>\n",
       "      <td>...</td>\n",
       "      <td>...</td>\n",
       "      <td>...</td>\n",
       "      <td>...</td>\n",
       "    </tr>\n",
       "    <tr>\n",
       "      <th>10031</th>\n",
       "      <td>h0psEtTT/</td>\n",
       "      <td>/soccer/england/premier-league/swansea-arsenal...</td>\n",
       "      <td>2017-01-14</td>\n",
       "      <td>E0</td>\n",
       "      <td>2017</td>\n",
       "      <td>england</td>\n",
       "      <td>Swansea</td>\n",
       "      <td>Arsenal</td>\n",
       "      <td>0</td>\n",
       "      <td>4</td>\n",
       "      <td>7.40</td>\n",
       "      <td>5.25</td>\n",
       "      <td>1.53</td>\n",
       "      <td>1.61</td>\n",
       "      <td>2.58</td>\n",
       "      <td>1.71</td>\n",
       "      <td>2.26</td>\n",
       "      <td>True</td>\n",
       "    </tr>\n",
       "    <tr>\n",
       "      <th>10040</th>\n",
       "      <td>xEkyTc3G/</td>\n",
       "      <td>/soccer/england/premier-league/leicester-chels...</td>\n",
       "      <td>2017-01-14</td>\n",
       "      <td>E0</td>\n",
       "      <td>2017</td>\n",
       "      <td>england</td>\n",
       "      <td>Leicester City</td>\n",
       "      <td>Chelsea</td>\n",
       "      <td>0</td>\n",
       "      <td>3</td>\n",
       "      <td>5.10</td>\n",
       "      <td>3.70</td>\n",
       "      <td>1.85</td>\n",
       "      <td>2.10</td>\n",
       "      <td>1.89</td>\n",
       "      <td>1.95</td>\n",
       "      <td>1.95</td>\n",
       "      <td>True</td>\n",
       "    </tr>\n",
       "    <tr>\n",
       "      <th>10055</th>\n",
       "      <td>nqgcM0vD/</td>\n",
       "      <td>/soccer/france/ligue-1/marseille-monaco-nqgcM0vD/</td>\n",
       "      <td>2017-01-15</td>\n",
       "      <td>F1</td>\n",
       "      <td>2017</td>\n",
       "      <td>france</td>\n",
       "      <td>Marseille</td>\n",
       "      <td>AS Monaco</td>\n",
       "      <td>1</td>\n",
       "      <td>4</td>\n",
       "      <td>2.91</td>\n",
       "      <td>3.46</td>\n",
       "      <td>2.70</td>\n",
       "      <td>1.90</td>\n",
       "      <td>2.08</td>\n",
       "      <td>1.69</td>\n",
       "      <td>2.38</td>\n",
       "      <td>True</td>\n",
       "    </tr>\n",
       "    <tr>\n",
       "      <th>10079</th>\n",
       "      <td>nqu82nqe/</td>\n",
       "      <td>/soccer/italy/serie-a/chievo-fiorentina-nqu82nqe/</td>\n",
       "      <td>2017-01-21</td>\n",
       "      <td>I1</td>\n",
       "      <td>2017</td>\n",
       "      <td>italy</td>\n",
       "      <td>Chievo Verona</td>\n",
       "      <td>Fiorentina</td>\n",
       "      <td>0</td>\n",
       "      <td>3</td>\n",
       "      <td>3.90</td>\n",
       "      <td>3.38</td>\n",
       "      <td>2.20</td>\n",
       "      <td>2.40</td>\n",
       "      <td>1.71</td>\n",
       "      <td>2.01</td>\n",
       "      <td>1.88</td>\n",
       "      <td>True</td>\n",
       "    </tr>\n",
       "    <tr>\n",
       "      <th>10096</th>\n",
       "      <td>G0pLytmF/</td>\n",
       "      <td>/soccer/spain/laliga/eibar-barcelona-G0pLytmF/</td>\n",
       "      <td>2017-01-22</td>\n",
       "      <td>SP1</td>\n",
       "      <td>2017</td>\n",
       "      <td>spain</td>\n",
       "      <td>Eibar</td>\n",
       "      <td>Barcelona</td>\n",
       "      <td>0</td>\n",
       "      <td>4</td>\n",
       "      <td>12.00</td>\n",
       "      <td>6.50</td>\n",
       "      <td>1.33</td>\n",
       "      <td>1.47</td>\n",
       "      <td>2.96</td>\n",
       "      <td>1.80</td>\n",
       "      <td>2.11</td>\n",
       "      <td>True</td>\n",
       "    </tr>\n",
       "  </tbody>\n",
       "</table>\n",
       "<p>445 rows × 18 columns</p>\n",
       "</div>"
      ],
      "text/plain": [
       "         id_odsp                                          link_odsp  \\\n",
       "9      Wn69eU5B/  /soccer/germany/bundesliga-2011-2012/koln-wolf...   \n",
       "16     fLN0n0XO/  /soccer/france/ligue-1-2011-2012/dijon-rennes-...   \n",
       "84     htFsNcAR/  /soccer/germany/bundesliga-2011-2012/kaisersla...   \n",
       "102    C88uY13B/  /soccer/spain/primera-division-2011-2012/zarag...   \n",
       "115    jLzeUf2l/  /soccer/germany/bundesliga-2011-2012/augsburg-...   \n",
       "...          ...                                                ...   \n",
       "10031  h0psEtTT/  /soccer/england/premier-league/swansea-arsenal...   \n",
       "10040  xEkyTc3G/  /soccer/england/premier-league/leicester-chels...   \n",
       "10055  nqgcM0vD/  /soccer/france/ligue-1/marseille-monaco-nqgcM0vD/   \n",
       "10079  nqu82nqe/  /soccer/italy/serie-a/chievo-fiorentina-nqu82nqe/   \n",
       "10096  G0pLytmF/     /soccer/spain/laliga/eibar-barcelona-G0pLytmF/   \n",
       "\n",
       "             date league  season  country              ht                at  \\\n",
       "9      2011-08-06     D1    2012  germany      FC Cologne     VfL Wolfsburg   \n",
       "16     2011-08-07     F1    2012   france       Dijon FCO      Stade Rennes   \n",
       "84     2011-08-27     D1    2012  germany  Kaiserslautern     Bayern Munich   \n",
       "102    2011-08-28    SP1    2012    spain   Real Zaragoza       Real Madrid   \n",
       "115    2011-09-09     D1    2012  germany     FC Augsburg  Bayer Leverkusen   \n",
       "...           ...    ...     ...      ...             ...               ...   \n",
       "10031  2017-01-14     E0    2017  england         Swansea           Arsenal   \n",
       "10040  2017-01-14     E0    2017  england  Leicester City           Chelsea   \n",
       "10055  2017-01-15     F1    2017   france       Marseille         AS Monaco   \n",
       "10079  2017-01-21     I1    2017    italy   Chievo Verona        Fiorentina   \n",
       "10096  2017-01-22    SP1    2017    spain           Eibar         Barcelona   \n",
       "\n",
       "       fthg  ftag  odd_h  odd_d  odd_a  odd_over  odd_under  odd_bts  \\\n",
       "9         0     3   3.00   3.80   2.54       NaN        NaN      NaN   \n",
       "16        1     5   3.35   3.27   2.50       NaN        NaN      NaN   \n",
       "84        0     3   7.60   4.70   1.52       NaN        NaN      NaN   \n",
       "102       0     6  12.33   6.20   1.30       NaN        NaN      NaN   \n",
       "115       1     4   4.34   3.65   2.00       NaN        NaN      NaN   \n",
       "...     ...   ...    ...    ...    ...       ...        ...      ...   \n",
       "10031     0     4   7.40   5.25   1.53      1.61       2.58     1.71   \n",
       "10040     0     3   5.10   3.70   1.85      2.10       1.89     1.95   \n",
       "10055     1     4   2.91   3.46   2.70      1.90       2.08     1.69   \n",
       "10079     0     3   3.90   3.38   2.20      2.40       1.71     2.01   \n",
       "10096     0     4  12.00   6.50   1.33      1.47       2.96     1.80   \n",
       "\n",
       "       odd_bts_n  three_goal_margin  \n",
       "9            NaN               True  \n",
       "16           NaN               True  \n",
       "84           NaN               True  \n",
       "102          NaN               True  \n",
       "115          NaN               True  \n",
       "...          ...                ...  \n",
       "10031       2.26               True  \n",
       "10040       1.95               True  \n",
       "10055       2.38               True  \n",
       "10079       1.88               True  \n",
       "10096       2.11               True  \n",
       "\n",
       "[445 rows x 18 columns]"
      ]
     },
     "execution_count": 31,
     "metadata": {},
     "output_type": "execute_result"
    }
   ],
   "source": [
    "ginf['three_goal_margin'] = (ginf['ftag'] - ginf['fthg']) >= 3\n",
    "\n",
    "ginf[ginf['three_goal_margin'] == True]"
   ]
  },
  {
   "cell_type": "markdown",
   "metadata": {
    "id": "k3_ZRtw2VKqs"
   },
   "source": [
    "## Q9. Find the two players with most event together. \n",
    "\n"
   ]
  },
  {
   "cell_type": "code",
   "execution_count": 32,
   "metadata": {
    "id": "QtgkaVfTWqD2"
   },
   "outputs": [
    {
     "data": {
      "text/html": [
       "<div>\n",
       "<style scoped>\n",
       "    .dataframe tbody tr th:only-of-type {\n",
       "        vertical-align: middle;\n",
       "    }\n",
       "\n",
       "    .dataframe tbody tr th {\n",
       "        vertical-align: top;\n",
       "    }\n",
       "\n",
       "    .dataframe thead th {\n",
       "        text-align: right;\n",
       "    }\n",
       "</style>\n",
       "<table border=\"1\" class=\"dataframe\">\n",
       "  <thead>\n",
       "    <tr style=\"text-align: right;\">\n",
       "      <th></th>\n",
       "      <th>pair_count</th>\n",
       "    </tr>\n",
       "  </thead>\n",
       "  <tbody>\n",
       "    <tr>\n",
       "      <th>(lionel messi, neymar)</th>\n",
       "      <td>177</td>\n",
       "    </tr>\n",
       "    <tr>\n",
       "      <th>(cristiano ronaldo, karim benzema)</th>\n",
       "      <td>162</td>\n",
       "    </tr>\n",
       "    <tr>\n",
       "      <th>(lionel messi, luis suarez)</th>\n",
       "      <td>143</td>\n",
       "    </tr>\n",
       "    <tr>\n",
       "      <th>(lorenzo insigne, marek hamsik)</th>\n",
       "      <td>137</td>\n",
       "    </tr>\n",
       "    <tr>\n",
       "      <th>(dani alves, lionel messi)</th>\n",
       "      <td>129</td>\n",
       "    </tr>\n",
       "    <tr>\n",
       "      <th>(cristiano ronaldo, marcelo)</th>\n",
       "      <td>125</td>\n",
       "    </tr>\n",
       "    <tr>\n",
       "      <th>(cristiano ronaldo, luka modric)</th>\n",
       "      <td>104</td>\n",
       "    </tr>\n",
       "    <tr>\n",
       "      <th>(german denis, maximiliano moralez)</th>\n",
       "      <td>100</td>\n",
       "    </tr>\n",
       "    <tr>\n",
       "      <th>(andrepierre gignac, mathieu valbuena)</th>\n",
       "      <td>99</td>\n",
       "    </tr>\n",
       "    <tr>\n",
       "      <th>(gonzalo castro, stefan kiessling)</th>\n",
       "      <td>98</td>\n",
       "    </tr>\n",
       "  </tbody>\n",
       "</table>\n",
       "</div>"
      ],
      "text/plain": [
       "                                        pair_count\n",
       "(lionel messi, neymar)                         177\n",
       "(cristiano ronaldo, karim benzema)             162\n",
       "(lionel messi, luis suarez)                    143\n",
       "(lorenzo insigne, marek hamsik)                137\n",
       "(dani alves, lionel messi)                     129\n",
       "(cristiano ronaldo, marcelo)                   125\n",
       "(cristiano ronaldo, luka modric)               104\n",
       "(german denis, maximiliano moralez)            100\n",
       "(andrepierre gignac, mathieu valbuena)          99\n",
       "(gonzalo castro, stefan kiessling)              98"
      ]
     },
     "execution_count": 32,
     "metadata": {},
     "output_type": "execute_result"
    }
   ],
   "source": [
    "def n_player_with_most_event_togheter(n):\n",
    "    # check for NaN values in player and player2 columns\n",
    "    mask = events[['player', 'player2']].isna().any(axis=1)\n",
    "    \n",
    "    # clear previous data's exist in df\n",
    "    df = pd.DataFrame()\n",
    "    \n",
    "    # apply map function only to non-NaN values if they differ from each other\n",
    "    df['pair_count'] = events[~mask][['player', 'player2']].apply(lambda x: tuple(sorted(map(str, x))) if x[0] != x[1] else np.nan,axis=1)\n",
    "    \n",
    "    #return n most pair\n",
    "    return df['pair_count'].value_counts().to_frame().head(n)\n",
    "\n",
    "\n",
    "most_common_pair = n_player_with_most_event_togheter(10)\n",
    "most_common_pair"
   ]
  },
  {
   "cell_type": "markdown",
   "metadata": {
    "id": "1RJN4IAtWwm4"
   },
   "source": [
    "## Q10. sort the players with most goals+assist"
   ]
  },
  {
   "cell_type": "code",
   "execution_count": 33,
   "metadata": {
    "id": "FWztYX6FWxBd"
   },
   "outputs": [
    {
     "data": {
      "text/html": [
       "<div>\n",
       "<style scoped>\n",
       "    .dataframe tbody tr th:only-of-type {\n",
       "        vertical-align: middle;\n",
       "    }\n",
       "\n",
       "    .dataframe tbody tr th {\n",
       "        vertical-align: top;\n",
       "    }\n",
       "\n",
       "    .dataframe thead th {\n",
       "        text-align: right;\n",
       "    }\n",
       "</style>\n",
       "<table border=\"1\" class=\"dataframe\">\n",
       "  <thead>\n",
       "    <tr style=\"text-align: right;\">\n",
       "      <th></th>\n",
       "      <th>0</th>\n",
       "    </tr>\n",
       "  </thead>\n",
       "  <tbody>\n",
       "    <tr>\n",
       "      <th>lionel messi</th>\n",
       "      <td>280.0</td>\n",
       "    </tr>\n",
       "    <tr>\n",
       "      <th>cristiano ronaldo</th>\n",
       "      <td>250.0</td>\n",
       "    </tr>\n",
       "    <tr>\n",
       "      <th>zlatan ibrahimovic</th>\n",
       "      <td>200.0</td>\n",
       "    </tr>\n",
       "    <tr>\n",
       "      <th>robert lewandowski</th>\n",
       "      <td>151.0</td>\n",
       "    </tr>\n",
       "    <tr>\n",
       "      <th>gonzalo higuain</th>\n",
       "      <td>146.0</td>\n",
       "    </tr>\n",
       "    <tr>\n",
       "      <th>...</th>\n",
       "      <td>...</td>\n",
       "    </tr>\n",
       "    <tr>\n",
       "      <th>francesco marianini</th>\n",
       "      <td>1.0</td>\n",
       "    </tr>\n",
       "    <tr>\n",
       "      <th>francesco della rocca</th>\n",
       "      <td>1.0</td>\n",
       "    </tr>\n",
       "    <tr>\n",
       "      <th>rafael marquez</th>\n",
       "      <td>1.0</td>\n",
       "    </tr>\n",
       "    <tr>\n",
       "      <th>rafael martins</th>\n",
       "      <td>1.0</td>\n",
       "    </tr>\n",
       "    <tr>\n",
       "      <th>zoumana camara</th>\n",
       "      <td>1.0</td>\n",
       "    </tr>\n",
       "  </tbody>\n",
       "</table>\n",
       "<p>3654 rows × 1 columns</p>\n",
       "</div>"
      ],
      "text/plain": [
       "                           0\n",
       "lionel messi           280.0\n",
       "cristiano ronaldo      250.0\n",
       "zlatan ibrahimovic     200.0\n",
       "robert lewandowski     151.0\n",
       "gonzalo higuain        146.0\n",
       "...                      ...\n",
       "francesco marianini      1.0\n",
       "francesco della rocca    1.0\n",
       "rafael marquez           1.0\n",
       "rafael martins           1.0\n",
       "zoumana camara           1.0\n",
       "\n",
       "[3654 rows x 1 columns]"
      ]
     },
     "execution_count": 33,
     "metadata": {},
     "output_type": "execute_result"
    }
   ],
   "source": [
    "df = events.loc[(events['is_goal']==True) & (events['event_type2'] != 15), ['player','player2']]\n",
    "df.columns =['scorer', 'assist']\n",
    "\n",
    "goal_scorers_count = df['scorer'].value_counts()\n",
    "assist_makers_count =  df['assist'].value_counts()\n",
    "\n",
    "goal_assist_count = goal_scorers_count.add(assist_makers_count, fill_value=0).sort_values(ascending=False).to_frame()\n",
    "goal_assist_count\n"
   ]
  },
  {
   "cell_type": "markdown",
   "metadata": {
    "id": "3r96CNzYYhDW"
   },
   "source": [
    "## Q11.\n",
    " In this section we want to have a comparison between np built-in functions and pure python performance in terms of time.<br>\n",
    "we have declared an abstract class named Base_compare which has two functions:\n",
    "1. time_function:It gets the np.ndarray as input and do some function(for example sum function) on it and returns the time which took the system to run the function.\n",
    "2. calculate:This function is a simple for loop(i from 1 to max_length with step=step) that builds a random np.ndarray with length=i then it calls time_function on the array.calculate function returns the length of each array and the time taken to do the function on the corresponding array in a pandas.DataFrame.\n",
    "\n",
    " 1. Complete the time_functions in the two classes below.\n",
    "  2. Initialize one object of each class.\n",
    "  3. Run calculate function for the two objects you made.\n",
    "  4. Concatenate the result into a single dataframe.\n",
    "  5. Plot the dataframe.\n",
    "  \n",
    "  6. What do you understand from the figure.\n",
    "  \n",
    " 7. Why is there a bump in the times taken by system?(Extra points)  \n",
    "   > The bump in the times taken by system is most likely due to the background processes running on the system at that time. \n",
    " \n",
    "\n",
    "\n",
    " 8. Why did we make the abstract function?and how could we do it better?(Extra points)  <br>\n",
    " >  We made the abstract function so that we can use it as a base class and create multiple other classes that inherit the time_function and calculate functions without needing to repeat the same code again and again. We could do it better by adding more abstract methods to the Base_compare class to make it truly abstract and enforce the implementation of these methods in the inherited classes, thereby making the code more modular and reusable.\n",
    "\n"
   ]
  },
  {
   "cell_type": "code",
   "execution_count": 16,
   "metadata": {
    "id": "C-6SyK1NiN9f"
   },
   "outputs": [],
   "source": [
    "from abc import abstractmethod\n",
    "import timeit\n",
    "\n",
    "class Base_model:\n",
    "  \n",
    "  def __init__(self,iteration=100,max_length=1000,step=10):\n",
    "    self.iteration = iteration\n",
    "    self.max_length = max_length\n",
    "    self.step = step\n",
    "\n",
    "  def calculate(self):\n",
    "    data = []\n",
    "    for i in range(1, self.max_length + 1, self.step):\n",
    "      arr = np.random.rand(i)\n",
    "      t = self.time_function(arr)\n",
    "      data.append([i, t])\n",
    "    return pd.DataFrame(data, columns=['Length', 'Time'])\n",
    "\n",
    "  @abstractmethod\n",
    "  def time_function(self,array):\n",
    "    pass\n",
    " \n"
   ]
  },
  {
   "cell_type": "code",
   "execution_count": 17,
   "metadata": {
    "id": "kbJtcDPZe2Sn"
   },
   "outputs": [],
   "source": [
    "class Np_bulitin_sum(Base_model):\n",
    "  def __init__(self,iteration=100,max_length=1000,step=10):\n",
    "    super().__init__(iteration=iteration,max_length=max_length,step=step)\n",
    "  \n",
    "  def time_function(self,array):\n",
    "    return timeit.timeit(lambda: np.sum(array), number=self.iteration)/self.iteration\n"
   ]
  },
  {
   "cell_type": "code",
   "execution_count": 18,
   "metadata": {
    "id": "jSkWVjucjt5V"
   },
   "outputs": [],
   "source": [
    "class Pure_python_sum(Base_model):\n",
    "\n",
    "  def __init__(self,iteration=100,max_length=1000,step=10):\n",
    "    super().__init__(iteration=iteration,max_length=max_length,step=step)\n",
    "    \n",
    "  def time_function(self,array):\n",
    "    start = timeit.default_timer() # get current time\n",
    "    sum = 0\n",
    "    for i in array:\n",
    "      sum += i\n",
    "    end = timeit.default_timer() # end time\n",
    "    return end - start # return time taken"
   ]
  },
  {
   "cell_type": "code",
   "execution_count": 26,
   "metadata": {},
   "outputs": [
    {
     "data": {
      "text/plain": [
       "<AxesSubplot: title={'center': 'Comparison between Numpy and Pure Python Time Functions'}, xlabel='Length'>"
      ]
     },
     "execution_count": 26,
     "metadata": {},
     "output_type": "execute_result"
    },
    {
     "data": {
      "image/png": "[encoded data removed]",
      "text/plain": [
       "<Figure size 432x288 with 1 Axes>"
      ]
     },
     "metadata": {
      "needs_background": "light"
     },
     "output_type": "display_data"
    }
   ],
   "source": [
    "npf = Np_bulitin_sum()\n",
    "ppf = Pure_python_sum()\n",
    "\n",
    "df = pd.concat([npf.calculate(), ppf.calculate().iloc[:, 1]], axis=1)\n",
    "df.columns = ['Length', 'Numpy Sum Function', 'Pure Python Sum Function']\n",
    "\n",
    "df.plot(x='Length', y=['Numpy Sum Function', 'Pure Python Sum Function'], title='Comparison between Numpy and Pure Python Time Functions')\n"
   ]
  },
  {
   "attachments": {
    "image-2.png": {
     "image/png": "[encoded data removed]"
    }
   },
   "cell_type": "markdown",
   "metadata": {},
   "source": [
    "![image-2.png](attachment:image-2.png)"
   ]
  }
 ],
 "metadata": {
  "colab": {
   "provenance": []
  },
  "kernelspec": {
   "display_name": "Python 3 (ipykernel)",
   "language": "python",
   "name": "python3"
  },
  "language_info": {
   "codemirror_mode": {
    "name": "ipython",
    "version": 3
   },
   "file_extension": ".py",
   "mimetype": "text/x-python",
   "name": "python",
   "nbconvert_exporter": "python",
   "pygments_lexer": "ipython3",
   "version": "3.10.4"
  }
 },
 "nbformat": 4,
 "nbformat_minor": 1
}
